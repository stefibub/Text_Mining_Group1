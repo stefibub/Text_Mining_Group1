{
 "cells": [
  {
   "cell_type": "markdown",
   "metadata": {},
   "source": [
    "**Text Mining for AI - Group1 Project** \\\n",
    "First step is acquiring dataset. \\\n",
    "Second step is processing data, for now : \\\n",
    "- we remove duplicates review \n",
    "- lower case everything \n",
    "- removes rows where the 'app_name' column is null or an empty string"
   ]
  },
  {
   "cell_type": "code",
   "execution_count": 12,
   "metadata": {
    "tags": []
   },
   "outputs": [
    {
     "name": "stdout",
     "output_type": "stream",
     "text": [
      "         app_name                                        review_text  \\\n",
      "0  Counter-Strike                                    ruined my life.   \n",
      "1  Counter-Strike  this will be more of a ''my experience with th...   \n",
      "2  Counter-Strike                      this game saved my virginity.   \n",
      "3  Counter-Strike  • do you like original games? • do you like ga...   \n",
      "4  Counter-Strike           easy to learn, hard to master.             \n",
      "5  Counter-Strike             no r8 revolver, 10/10 will play again.   \n",
      "6  Counter-Strike          still better than call of duty: ghosts...   \n",
      "7  Counter-Strike  cant buy skins, cases, keys, stickers - gaben ...   \n",
      "8  Counter-Strike  counter-strike: ok, after 9 years of unlimited...   \n",
      "9  Counter-Strike  every server is spanish or french. i can now f...   \n",
      "\n",
      "   review_score  review_votes  \n",
      "0             1             0  \n",
      "1             1             1  \n",
      "2             1             0  \n",
      "3             1             0  \n",
      "4             1             1  \n",
      "5             1             1  \n",
      "6             1             1  \n",
      "7             1             1  \n",
      "8             1             1  \n",
      "9             1             0  \n"
     ]
    }
   ],
   "source": [
    "import pandas as pd\n",
    "import re\n",
    "\n",
    "df = pd.read_csv('steam_reviews.csv')\n",
    "#remove duplicate reviews\n",
    "df = df.drop_duplicates(subset='review_text', keep='first')\n",
    "#all in lowercase \n",
    "df['review_text'] = df['review_text'].str.lower()\n",
    "df = df[df['review_text'].notna() & (df['review_text'] != '')]\n",
    "df = df[df['app_name'].notna() & (df['app_name'] != '')]\n",
    "\n",
    "df = df.drop(columns=['app_id'])\n",
    "print(df.head(10))\n",
    "print(df.isna().sum().sum())"
   ]
  },
  {
   "cell_type": "markdown",
   "metadata": {},
   "source": [
    "Saving the data as new csv file. "
   ]
  },
  {
   "cell_type": "code",
   "execution_count": 16,
   "metadata": {
    "tags": []
   },
   "outputs": [],
   "source": [
    "#df.to_csv('/Volumes/PotatoExpan/Text_Mining_Project/processed_steam_reviews.csv')\n",
    "# Specify a separator and ensure headers are included\n",
    "#df.to_csv('/Volumes/PotatoExpan/Text_Mining_Project/secondtry.csv', sep=';', index=True, header=True)\n",
    "df.to_csv('cleaned.csv', index=False)"
   ]
  },
  {
   "cell_type": "code",
   "execution_count": 17,
   "metadata": {
    "tags": []
   },
   "outputs": [
    {
     "name": "stdout",
     "output_type": "stream",
     "text": [
      "         app_name                                        review_text  \\\n",
      "0  Counter-Strike                                    ruined my life.   \n",
      "1  Counter-Strike  this will be more of a ''my experience with th...   \n",
      "2  Counter-Strike                      this game saved my virginity.   \n",
      "3  Counter-Strike  • do you like original games? • do you like ga...   \n",
      "4  Counter-Strike           easy to learn, hard to master.             \n",
      "5  Counter-Strike             no r8 revolver, 10/10 will play again.   \n",
      "6  Counter-Strike          still better than call of duty: ghosts...   \n",
      "7  Counter-Strike  cant buy skins, cases, keys, stickers - gaben ...   \n",
      "8  Counter-Strike  counter-strike: ok, after 9 years of unlimited...   \n",
      "9  Counter-Strike  every server is spanish or french. i can now f...   \n",
      "\n",
      "   review_score  review_votes  \n",
      "0             1             0  \n",
      "1             1             1  \n",
      "2             1             0  \n",
      "3             1             0  \n",
      "4             1             1  \n",
      "5             1             1  \n",
      "6             1             1  \n",
      "7             1             1  \n",
      "8             1             1  \n",
      "9             1             0  \n"
     ]
    }
   ],
   "source": [
    "df = pd.read_csv('cleaned.csv')\n",
    "print(df.head(10))"
   ]
  }
 ],
 "metadata": {
  "kernelspec": {
   "display_name": "DS_env",
   "language": "python",
   "name": "ds_env"
  },
  "language_info": {
   "codemirror_mode": {
    "name": "ipython",
    "version": 3
   },
   "file_extension": ".py",
   "mimetype": "text/x-python",
   "name": "python",
   "nbconvert_exporter": "python",
   "pygments_lexer": "ipython3",
   "version": "3.11.4"
  }
 },
 "nbformat": 4,
 "nbformat_minor": 4
}
