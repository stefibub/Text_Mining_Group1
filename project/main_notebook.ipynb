{
 "cells": [
  {
   "cell_type": "markdown",
   "metadata": {},
   "source": [
    "**Text Mining for AI - Group1 Project** \\\n",
    "First step is acquiring dataset. \\\n",
    "Second step is processing data, for now : \\\n",
    "- we remove duplicates review \n",
    "- lower case everything \n",
    "- removes rows where the 'app_name' column is null or an empty string"
   ]
  },
  {
   "cell_type": "code",
   "execution_count": 14,
   "metadata": {},
   "outputs": [
    {
     "name": "stderr",
     "output_type": "stream",
     "text": [
      "/var/folders/43/3l2r907n45j385wwylpn8rym0000gn/T/ipykernel_1575/887350257.py:4: DtypeWarning: Columns (17) have mixed types. Specify dtype option on import or set low_memory=False.\n",
      "  df = pd.read_csv('/Volumes/PotatoExpan/Text_Mining_Project/steam_reviews.csv')\n"
     ]
    }
   ],
   "source": [
    "import pandas as pd\n",
    "import re\n",
    "\n",
    "df = pd.read_csv('/Volumes/PotatoExpan/Text_Mining_Project/steam_reviews.csv')\n",
    "#remove dublicate reviews\n",
    "df = df.drop_duplicates(subset='review_text', keep='first')\n",
    "#all in lowercase \n",
    "df['review_text'] = df['review_text'].str.lower()\n",
    "df = df[df['review_text'].notna() & (df['review_text'] != '')]\n",
    "df = df[df['app_name'].notna() & (df['app_name'] != '')]\n",
    "\n",
    "df = df.drop(columns=['timestamp_created', 'timestamp_updated', 'comment_count', \"steam_china_location\"])\n",
    "\n",
    "#print(df.head(10))"
   ]
  },
  {
   "cell_type": "markdown",
   "metadata": {},
   "source": [
    "Now we only want to keep the english review comments (we are still preprocessing data)"
   ]
  },
  {
   "cell_type": "code",
   "execution_count": null,
   "metadata": {},
   "outputs": [],
   "source": []
  },
  {
   "cell_type": "markdown",
   "metadata": {},
   "source": [
    "Saving the data as new csv file. "
   ]
  },
  {
   "cell_type": "code",
   "execution_count": 12,
   "metadata": {},
   "outputs": [],
   "source": [
    "#df.to_csv('/Volumes/PotatoExpan/Text_Mining_Project/processed_steam_reviews.csv')\n",
    "# Specify a separator and ensure headers are included\n",
    "#df.to_csv('/Volumes/PotatoExpan/Text_Mining_Project/secondtry.csv', sep=';', index=True, header=True)\n",
    "df.to_csv('/Volumes/PotatoExpan/Text_Mining_Project/colums_removedagain.csv', sep=';', index=False, header=True, line_terminator='\\n')\n",
    "\n"
   ]
  }
 ],
 "metadata": {
  "kernelspec": {
   "display_name": "Python 3",
   "language": "python",
   "name": "python3"
  },
  "language_info": {
   "codemirror_mode": {
    "name": "ipython",
    "version": 3
   },
   "file_extension": ".py",
   "mimetype": "text/x-python",
   "name": "python",
   "nbconvert_exporter": "python",
   "pygments_lexer": "ipython3",
   "version": "3.10.0"
  }
 },
 "nbformat": 4,
 "nbformat_minor": 2
}
