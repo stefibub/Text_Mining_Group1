{
 "cells": [
  {
   "cell_type": "markdown",
   "metadata": {},
   "source": [
    "<h1 align=\"center\">Analyzing Steam Reviews: An NLP Journey</h1>\n",
    "<h2 align=\"center\">Implementing NERC, Sentiment, and Topic Analysis at the Sentence Level: Methods and Evaluations</h2>\n",
    "\n",
    "**Text Mining for AI - Project Group 1**"
   ]
  },
  {
   "cell_type": "markdown",
   "metadata": {},
   "source": [
    "**INTRODUCTION**\n",
    "\n",
    "The gaming industry is still expanding at an unparalleled rate, making significant contributions to the world of entertainment. According to recent statistics, this industry is seeing significant economic consequences, with revenue rising to all-time highs [1]. But the growing market also presents difficulties, especially when it comes to preserving player satisfaction in the face of growing game diversity. The challenges of meeting a variety of player expectations have highlighted the need for creative game improvement techniques [2].                       \n",
    "\n",
    "User reviews have become an essential component of player feedback in tackling the issues facing the rapidly growing gaming industry. Studies have demonstrated that evaluations give developers a direct route to the experiences and preferences of customers, giving them crucial insights [3,4,5]. Particularly common on digital platforms that compile user interactions and opinions is this immediate feedback option. Of them, **Steam** (https://store.steampowered.com/about/) is among the most well-known video game marketplaces, with a large library and a vibrant community. Its significant user base contributes to a diverse and comprehensive collection of reviews, making Steam an ideal environment for mining and analyzing player feedback.\n",
    "\n",
    "Our research intends to create a comprehensive analytical framework for mining and understanding user evaluations on websites such as **Steam**, taking these factors into account. This will help game producers improve their products to better suit players' varied needs and will also contribute to the larger conversation about how to improve customer satisfaction in the ever-changing gaming industry. Our ultimate objective is to shorten the gap between player expectations and game development in order to provide a more enjoyable and engaging gaming experience for all players."
   ]
  },
  {
   "cell_type": "markdown",
   "metadata": {},
   "source": [
    "**DESCRIPTION AND MOTIVATION OF APPROACHES**\n",
    "\n",
    "Specifically, we apply three core NLP strategies: \n",
    "- Named Entity Recognition and Classification (NERC)\n",
    "- Sentiment analysis\n",
    "- Topic analysis. \n",
    "\n",
    "NERC helps identify and categorize key entities within text data, such as names of games, characters, or features, into predefined categories[12]. This NLP technique is crucial for structuring unstructured data[11]. In our project, NERC serves to pinpoint specific game elements mentioned in user reviews, aiding in the contextual analysis of feedback.\n",
    "\n",
    "Sentiment analysis assesses the emotional content of sentences and allows us to classify them as neutral, positive, or negative[12,13]. This procedure is essential to comprehending the general attitude of players toward different components of the game. \n",
    "\n",
    "In our project, topic analysis helps find recurrent patterns within user evaluations by extracting themes or concepts from vast amounts of text[14]. Using this method, we can identify common problems or remarks that might not be immediately apparent."
   ]
  },
  {
   "cell_type": "markdown",
   "metadata": {},
   "source": [
    "**DESCRIPTION OF THE DATASET** \n",
    "\n",
    "The \"Steam Reviews International\" dataset on Kaggle (https://www.kaggle.com/datasets/andrewmvd/steam-reviews) is a collection of ???k Steam reviews collected using the Steamworks API (228,3 MB). Each row of the dataset.csv file contains various infromation about the review gathered. \n",
    "\n",
    "The structure and content of the dataset include : \n",
    "\n",
    "| **Label** | **Content Description** | **Data Type** |\n",
    "|----------|----------|----------|\n",
    "| app_id | Id of reviewed app | Unique identifier |\n",
    "| app_name | Corresponding app name | string |\n",
    "| review_id| Id of review written | Unique identifier |\n",
    "| review_text | Text reviewer has written  | string |\n",
    "| voted_up | If reviewer recommends the game (T=yes, F=no) | boolean |\n",
    "| votes_up | How many times it was voted up | integer |\n",
    "| timestamp_created/updated| When the review was both created and updated | Datetime |\n",
    "| votes_funny | How many times it was votes as funny (like concept) | integer |\n",
    "| weighted_vote_score | Between 0-1, relevance of review  | float |\n",
    "| comment_count | How many other users interacted with the review | integer |\n",
    "| steam_purchase | If the reviewer purchased the game | boolean |\n",
    "| received_for_free | If the game was not purchased by reviewer | boolean |\n",
    "|  written_during_early_access | If the review was written before public release | boolean |\n"
   ]
  },
  {
   "cell_type": "markdown",
   "metadata": {},
   "source": [
    "**DATA CLEANING - PHASE 1**\n",
    "\n",
    "Our data cleaning procedure started with the removal of duplicate entries to guarantee the originality of each review before standardizing the text by changing all of the review content to lowercase, which made text analysis chores easier in the future. Consequently, we removed any dataset entries that were missing important information. This included reviews without text or application names.We further de-cluttered the dataset by removing columns that had no impact on our project's goals, such as unnecessary timestamps and identities, and concentrating only on information that was relevant to the main analysis. In order to ensure consistency and relevance throughout the dataset, we focused on English-language reviews in order to conform to the linguistic scope of our study. The language column was then removed as well because it was implied. \n",
    "\n",
    "The finalization of the first cleaning phase process involved more general edits to the datasets, which resulted also in a substantially smaller one. "
   ]
  },
  {
   "cell_type": "code",
   "execution_count": 16,
   "metadata": {
    "tags": []
   },
   "outputs": [
    {
     "name": "stderr",
     "output_type": "stream",
     "text": [
      "/var/folders/43/3l2r907n45j385wwylpn8rym0000gn/T/ipykernel_11033/1880466430.py:4: DtypeWarning: Columns (17) have mixed types. Specify dtype option on import or set low_memory=False.\n",
      "  df = pd.read_csv('steam_reviews.csv')\n"
     ]
    },
    {
     "name": "stdout",
     "output_type": "stream",
     "text": [
      "                                         app_name  review_id  \\\n",
      "0                                   The Cold Hand  138284361   \n",
      "1                                   The Cold Hand  137869845   \n",
      "3                            Unnatural Season Two  137882379   \n",
      "4                            Unnatural Season Two  138491433   \n",
      "6    My Pleasure - Season 2: Advanced Walkthrough  140706437   \n",
      "..                                            ...        ...   \n",
      "209                                 Dream of Echo  138046872   \n",
      "210                                    Triad Ball  138865714   \n",
      "211                          Let It Boom Playtest  141417569   \n",
      "212                                Frozen shelter  141698855   \n",
      "215                                  Just Survive  140520667   \n",
      "\n",
      "                                           review_text  voted_up  votes_up  \\\n",
      "0    \"yeah man, i'm making a game. it's gonna be a ...     False         3   \n",
      "1    i like the part where you jump on enemies and ...      True         2   \n",
      "3    to be perfectly honest, it ends up feeling lik...     False        12   \n",
      "4    didn't know this was planned as a series, so h...      True         1   \n",
      "6                how do you even open this walkthrough     False         0   \n",
      "..                                                 ...       ...       ...   \n",
      "209  while i definitely do support solo devs, i don...     False         7   \n",
      "210  i see potential, \\n\\nthe game's atmosphere is ...      True         1   \n",
      "211  one of the best vr games i have tested and played      True         0   \n",
      "212  even with the provided guide it's hard to prog...     False         2   \n",
      "215            this game must be a joke...............     False         1   \n",
      "\n",
      "     votes_funny  weighted_vote_score  comment_count  steam_purchase  \\\n",
      "0              0             0.552239              0           False   \n",
      "1              0             0.531250              0           False   \n",
      "3              0             0.671914              0            True   \n",
      "4              0             0.521739              0            True   \n",
      "6              0             0.438675              0            True   \n",
      "..           ...                  ...            ...             ...   \n",
      "209            0             0.569733              0            True   \n",
      "210            0             0.523810              0           False   \n",
      "211            0             0.000000              0           False   \n",
      "212            0             0.513514              0            True   \n",
      "215            0             0.523810              0            True   \n",
      "\n",
      "     received_for_free  written_during_early_access  \n",
      "0                False                        False  \n",
      "1                False                        False  \n",
      "3                False                        False  \n",
      "4                False                        False  \n",
      "6                False                        False  \n",
      "..                 ...                          ...  \n",
      "209              False                        False  \n",
      "210              False                        False  \n",
      "211               True                        False  \n",
      "212              False                        False  \n",
      "215              False                        False  \n",
      "\n",
      "[100 rows x 11 columns]\n",
      "0\n"
     ]
    }
   ],
   "source": [
    "import pandas as pd\n",
    "import re\n",
    "\n",
    "df = pd.read_csv('steam_reviews.csv')\n",
    "#remove duplicate reviews\n",
    "df = df.drop_duplicates(subset='review_text', keep='first')\n",
    "#all in lowercase \n",
    "df['review_text'] = df['review_text'].str.lower()\n",
    "#remove NaN reviews or empty strings\n",
    "df = df[df['review_text'].notna() & (df['review_text'] != '')]\n",
    "df = df[df['app_name'].notna() & (df['app_name'] != '')]\n",
    "#removes app_id coloumn \n",
    "df = df.drop(columns=['app_id'])\n",
    "# Keep only rows where the language is English\n",
    "df = df[df['language'] == 'english']\n",
    "\n",
    "#completly drop some coloumns \n",
    "df = df.drop(columns=['timestamp_created', 'timestamp_updated','hidden_in_steam_china','steam_china_location','Unnamed: 0'])\n",
    "\n",
    "#now that we decided to only have english, we can make it implicit by deleting the coloumn \n",
    "df = df.drop(columns='language')\n",
    "\n",
    "#display: \n",
    "#print(df.head(100))\n",
    "#print(df.isna().sum().sum())"
   ]
  },
  {
   "cell_type": "markdown",
   "metadata": {},
   "source": [
    "**DATA CLEANING - PHASE 2**\n",
    "\n",
    "Continuing our data cleaning journey, we introduced a specialized function to refine the quality of our text data further. Recognizing the disruptive presence of ASCII art in review texts—characters arranged in patterns that do not contribute to meaningful text analysis—we developed a method to identify and eliminate these elements. \n",
    "\n",
    " To handle this, we use the function `remove_ascii_art`. This function breaks each review into individual lines and checks each for signs of ASCII art, typically sequences of three or more non-word characters. Lines identified as ASCII art are removed, ensuring our dataset consists only of meaningful text.\" "
   ]
  },
  {
   "cell_type": "code",
   "execution_count": 19,
   "metadata": {},
   "outputs": [],
   "source": [
    "def remove_ascii_art(text):\n",
    "    lines = text.split('\\n')\n",
    "    pattern = re.compile(r'^[^\\w\\s]{3,}$')  # This pattern looks for lines with 3 or more non-word characters\n",
    "    filtered_lines = [line for line in lines if not pattern.search(line)]\n",
    "    cleaned_text = '\\n'.join(filtered_lines)\n",
    "    return cleaned_text"
   ]
  },
  {
   "cell_type": "code",
   "execution_count": 27,
   "metadata": {},
   "outputs": [
    {
     "name": "stdout",
     "output_type": "stream",
     "text": [
      "Index(['app_name', 'review_id', 'review_text', 'voted_up', 'votes_up',\n",
      "       'votes_funny', 'weighted_vote_score', 'comment_count', 'steam_purchase',\n",
      "       'received_for_free', 'written_during_early_access'],\n",
      "      dtype='object')\n"
     ]
    }
   ],
   "source": [
    "#print(df.columns)\n",
    "df['review_text'] = df['review_text'].apply(remove_ascii_art)"
   ]
  },
  {
   "cell_type": "markdown",
   "metadata": {},
   "source": [
    "**DATA CLEANING - FINAL PHASE**\n",
    "\n",
    "In the later stages of our data cleaning process, despite our initial efforts to filter out non-English reviews, we encountered instances where reviews, although classified as English, still contained fragments of other languages.\n",
    "\n",
    "To address this, we incorporated an additional layer of language verification using the `is_english` function, which employs the `langdetect` library. This function assesses each review's language content, ensuring its primary language aligns with our focus on English texts. We applied this function to each review, appending a new column `is_english` to our dataset, which flags whether a review is predominantly in English.\n",
    "\n",
    "However,while we chose this library for its performance, we were aware of possible misclassification and therefore we chose to carry-out a final manual review as our last step of the data leaning process. This step involved a hands-on examination of the dataset to identify and remove any remaining reviews that erroneously passed through the earlier filters. \n",
    "\n",
    "Now that we have obtained a cleaned dataset, comprising ??? entries, we are prepared to proceed with the application of the previously mentioned NLP techniques."
   ]
  },
  {
   "cell_type": "code",
   "execution_count": 34,
   "metadata": {},
   "outputs": [],
   "source": [
    "from langdetect import detect, LangDetectException\n",
    "\n",
    "df = pd.read_csv('intermediate_dataset.csv', sep=',', encoding='utf-8',on_bad_lines=\"skip\") \n",
    "\n",
    "def is_english(text):\n",
    "    # First, check if 'text' is a string\n",
    "    if not isinstance(text, str):\n",
    "        return False  # If not a string, return False or handle differently\n",
    "    \n",
    "    try:\n",
    "        # Detect the language of the text\n",
    "        return detect(text) == 'en'\n",
    "    except LangDetectException:\n",
    "        # If the text is too short or has other issues, language detection may fail\n",
    "        return False\n",
    "\n",
    "\n",
    "# Apply the language detection function to the 'review_text' column\n",
    "df['is_english'] = df['review_text'].apply(is_english)\n",
    "\n",
    "# Filter the DataFrame to keep only the rows where 'is_english' is True\n",
    "df_filtered = df[df['is_english']]\n",
    "\n",
    "# Optionally, save the filtered DataFrame to a new CSV file\n",
    "#df_filtered.to_csv('final_cleaned_dataset.csv', sep=';', encoding='utf-8', index=False)\n"
   ]
  },
  {
   "cell_type": "markdown",
   "metadata": {},
   "source": [
    "**References**\n",
    "\n",
    "1. Wijman, T. (2024, February 8). Newzoo’s games market revenue estimates and forecasts by region and segment for 2023. Newzoo. Retrieved from https://newzoo.com/resources/blog/games-market-estimates-and-forecasts-2023\n",
    "\n",
    "2. Chambers C, Feng Wc, Sahu S, Saha D (2005) Measurement-based characterization of a collection of online games. In: Proceedings of the 5th ACM SIGCOMM conference on Internet Measurement, USENIX Association, pp 1–1\n",
    "\n",
    "3. Lin, D., Bezemer, C. P., Zou, Y., & Hassan, A. E. (2019). An empirical study of game reviews on the Steam platform. Empirical Software Engineering, 24, 170-207.\n",
    "\n",
    "4. Vasa R, Hoon L, Mouzakis K, Noguchi A (2012) A preliminary analysis of mobile app user reviews. In: Proceedings of the 24th Australian Computer-Human Interaction Conference. ACM, pp 241–244\n",
    "\n",
    "5. Hoon L, Vasa R, Schneider JG, Mouzakis K (2012) A preliminary analysis of vocabulary in mobile app user reviews. In: Proceedings of the 24th Australian Computer-Human Interaction Conference. ACM, pp 245–248\n",
    "\n",
    "6. Livingston, I. J., Nacke, L. E., & Mandryk, R. L. (2011, August). The impact of negative game reviews and user comments on player experience. In Proceedings of the 2011 ACM SIGGRAPH Symposium on Video Games (pp. 25-29).\n",
    "\n",
    "7. Zagal, J. P., Ladd, A., & Johnson, T. (2009, April). Characterizing and understanding game reviews. In Proceedings of the 4th international Conference on Foundations of Digital Games (pp. 215-222).\n",
    "\n",
    "8. Livingston, I. J., Mandryk, R. L., & Stanley, K. G. (2010). Critic-proofing: How using critic reviews and game genres can refine heuristic evaluations. In Proceedings of FuturePlay 2010.\n",
    "\n",
    "9. Lin, D., Bezemer, C. P., Zou, Y., & Hassan, A. E. (2019). An empirical study of game reviews on the Steam platform. Empirical Software Engineering, 24, 170-207.\n",
    "\n",
    "10. Busurkina, I., Karpenko, V., Tulubenskaya, E., & Bulygin, D. (2020, June). Game experience evaluation. a study of game reviews on the steam platform. In International conference on digital transformation and global society (pp. 117-127). Cham: Springer International Publishing.\n",
    "\n",
    "11. Markov, I. (2024). Named entity recognition and classification [PDF document]. Text Mining for AI, Academic Year 2024.Retrieved from Canvas.\n",
    "\n",
    "12. Maynard, D., Bontcheva, K., & Rout, D. (2016). NLP for software: Understanding the role of natural language processing in software development. In Natural Language Processing for Software Engineering (pp.25-35,  73-86). \n",
    "\n",
    "13. Markov, I. (2024). Sentiment analysis [PDF document]. Text Mining for AI, Vrije Universiteit, Academic Year 2024. Retrieved from Canvas. \n",
    "\n",
    "14. Markov, I. (2024). Topic Modelling and Text Classification [PDF document].  Text Mining for AI, Vrije Universiteit, Academic Year 2024. Retrieved from Canvas. "
   ]
  }
 ],
 "metadata": {
  "kernelspec": {
   "display_name": "Python 3 (ipykernel)",
   "language": "python",
   "name": "python3"
  },
  "language_info": {
   "codemirror_mode": {
    "name": "ipython",
    "version": 3
   },
   "file_extension": ".py",
   "mimetype": "text/x-python",
   "name": "python",
   "nbconvert_exporter": "python",
   "pygments_lexer": "ipython3",
   "version": "3.11.5"
  }
 },
 "nbformat": 4,
 "nbformat_minor": 4
}
