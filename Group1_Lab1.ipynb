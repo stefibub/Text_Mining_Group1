{
 "cells": [
  {
   "cell_type": "markdown",
   "metadata": {},
   "source": [
    "# Lab1-Assignment\n",
    "\n",
    "Copyright: Vrije Universiteit Amsterdam, Faculty of Humanities, CLTL\n",
    "\n",
    "This notebook describes the assignment for Lab 1 of the text mining course. \n",
    "\n",
    "**Points**: each exercise is prefixed with the number of points you can obtain for the exercise.\n",
    "\n",
    "We assume you have worked through the following notebooks:\n",
    "* **Lab1.1-introduction**\n",
    "* **Lab1.2-introduction-to-NLTK**\n",
    "* **Lab1.3-introduction-to-spaCy** \n",
    "\n",
    "In this assignment, you will process an English text (**Lab1-apple-samsung-example.txt**) with both NLTK and spaCy and discuss the similarities and differences."
   ]
  },
  {
   "cell_type": "markdown",
   "metadata": {},
   "source": [
    "## Credits\n",
    "The notebooks in this block have been originally created by [Marten Postma](https://martenpostma.github.io). Adaptations were made by [Filip Ilievski](http://ilievski.nl)."
   ]
  },
  {
   "cell_type": "markdown",
   "metadata": {},
   "source": [
    "## Tip: how to read a file from disk\n",
    "Let's open the file **Lab1-apple-samsung-example.txt** from disk."
   ]
  },
  {
   "cell_type": "code",
   "execution_count": 4,
   "metadata": {},
   "outputs": [],
   "source": [
    "from pathlib import Path"
   ]
  },
  {
   "cell_type": "code",
   "execution_count": 5,
   "metadata": {},
   "outputs": [
    {
     "name": "stdout",
     "output_type": "stream",
     "text": [
      "/Users/stefaniaconte/Desktop/newenv/Lab1-apple-samsung-example.txt\n",
      "does path exist? -> True\n"
     ]
    }
   ],
   "source": [
    "cur_dir = Path().resolve() # this should provide you with the folder in which this notebook is placed\n",
    "path_to_file = Path.joinpath(cur_dir, 'Lab1-apple-samsung-example.txt')\n",
    "print(path_to_file)\n",
    "print('does path exist? ->', Path.exists(path_to_file))"
   ]
  },
  {
   "cell_type": "markdown",
   "metadata": {},
   "source": [
    "If the output from the code cell above states that **does path exist? -> False**, please check that the file **Lab1-apple-samsung-example.txt** is in the same directory as this notebook."
   ]
  },
  {
   "cell_type": "code",
   "execution_count": 6,
   "metadata": {},
   "outputs": [
    {
     "name": "stdout",
     "output_type": "stream",
     "text": [
      "number of characters 1139\n"
     ]
    }
   ],
   "source": [
    "with open(path_to_file) as infile:\n",
    "    text = infile.read()\n",
    "\n",
    "print('number of characters', len(text))"
   ]
  },
  {
   "cell_type": "markdown",
   "metadata": {},
   "source": [
    "## [total points: 4] Exercise 1: NLTK\n",
    "In this exercise, we use NLTK to apply **Part-of-speech (POS) tagging**, **Named Entity Recognition (NER)**, and **Constituency parsing**. The following code snippet already performs sentence splitting and tokenization. "
   ]
  },
  {
   "cell_type": "code",
   "execution_count": 7,
   "metadata": {},
   "outputs": [],
   "source": [
    "import nltk\n",
    "from nltk.tokenize import sent_tokenize\n",
    "from nltk import word_tokenize"
   ]
  },
  {
   "cell_type": "code",
   "execution_count": 8,
   "metadata": {},
   "outputs": [],
   "source": [
    "sentences_nltk = sent_tokenize(text)"
   ]
  },
  {
   "cell_type": "code",
   "execution_count": 9,
   "metadata": {},
   "outputs": [],
   "source": [
    "tokens_per_sentence = []\n",
    "for sentence_nltk in sentences_nltk:\n",
    "    sent_tokens = word_tokenize(sentence_nltk)\n",
    "    tokens_per_sentence.append(sent_tokens)"
   ]
  },
  {
   "cell_type": "markdown",
   "metadata": {},
   "source": [
    "We will use lists to keep track of the output of the NLP tasks. We can hence inspect the output for each task using the index of the sentence."
   ]
  },
  {
   "cell_type": "code",
   "execution_count": 10,
   "metadata": {},
   "outputs": [
    {
     "name": "stdout",
     "output_type": "stream",
     "text": [
      "SENTENCE The six phones and tablets affected are the Galaxy S III, running the new Jelly Bean system, the Galaxy Tab 8.9 Wifi tablet, the Galaxy Tab 2 10.1, Galaxy Rugby Pro and Galaxy S III mini.\n",
      "TOKENS ['The', 'six', 'phones', 'and', 'tablets', 'affected', 'are', 'the', 'Galaxy', 'S', 'III', ',', 'running', 'the', 'new', 'Jelly', 'Bean', 'system', ',', 'the', 'Galaxy', 'Tab', '8.9', 'Wifi', 'tablet', ',', 'the', 'Galaxy', 'Tab', '2', '10.1', ',', 'Galaxy', 'Rugby', 'Pro', 'and', 'Galaxy', 'S', 'III', 'mini', '.']\n"
     ]
    }
   ],
   "source": [
    "sent_id = 1\n",
    "print('SENTENCE', sentences_nltk[sent_id])\n",
    "print('TOKENS', tokens_per_sentence[sent_id])"
   ]
  },
  {
   "cell_type": "markdown",
   "metadata": {},
   "source": [
    "### [point: 1] Exercise 1a: Part-of-speech (POS) tagging\n",
    "Use `nltk.pos_tag` to perform part-of-speech tagging on each sentence.\n",
    "\n",
    "Use `print` to **show** the output in the notebook (and hence also in the exported PDF!)."
   ]
  },
  {
   "cell_type": "code",
   "execution_count": 11,
   "metadata": {},
   "outputs": [],
   "source": [
    "pos_tags_per_sentence = [] #stores POS tags for each sentence List[Tuple]\n",
    "for tokens in tokens_per_sentence:\n",
    "    pos_tags = nltk.pos_tag(tokens) #each tuple consists of a token and its corresponding POS tag\n",
    "    pos_tags_per_sentence.append(pos_tags)\n",
    "    #print(pos_tags) #prints POS-tagged tokens for one sentence at a time"
   ]
  },
  {
   "cell_type": "code",
   "execution_count": 12,
   "metadata": {},
   "outputs": [
    {
     "name": "stdout",
     "output_type": "stream",
     "text": [
      "[[('https', 'NN'), (':', ':'), ('//www.telegraph.co.uk/technology/apple/9702716/Apple-Samsung-lawsuit-six-more-products-under-scrutiny.html', 'JJ'), ('Documents', 'NNS'), ('filed', 'VBN'), ('to', 'TO'), ('the', 'DT'), ('San', 'NNP'), ('Jose', 'NNP'), ('federal', 'JJ'), ('court', 'NN'), ('in', 'IN'), ('California', 'NNP'), ('on', 'IN'), ('November', 'NNP'), ('23', 'CD'), ('list', 'NN'), ('six', 'CD'), ('Samsung', 'NNP'), ('products', 'NNS'), ('running', 'VBG'), ('the', 'DT'), ('``', '``'), ('Jelly', 'RB'), ('Bean', 'NNP'), (\"''\", \"''\"), ('and', 'CC'), ('``', '``'), ('Ice', 'NNP'), ('Cream', 'NNP'), ('Sandwich', 'NNP'), (\"''\", \"''\"), ('operating', 'VBG'), ('systems', 'NNS'), (',', ','), ('which', 'WDT'), ('Apple', 'NNP'), ('claims', 'VBZ'), ('infringe', 'VB'), ('its', 'PRP$'), ('patents', 'NNS'), ('.', '.')], [('The', 'DT'), ('six', 'CD'), ('phones', 'NNS'), ('and', 'CC'), ('tablets', 'NNS'), ('affected', 'VBN'), ('are', 'VBP'), ('the', 'DT'), ('Galaxy', 'NNP'), ('S', 'NNP'), ('III', 'NNP'), (',', ','), ('running', 'VBG'), ('the', 'DT'), ('new', 'JJ'), ('Jelly', 'NNP'), ('Bean', 'NNP'), ('system', 'NN'), (',', ','), ('the', 'DT'), ('Galaxy', 'NNP'), ('Tab', 'NNP'), ('8.9', 'CD'), ('Wifi', 'NNP'), ('tablet', 'NN'), (',', ','), ('the', 'DT'), ('Galaxy', 'NNP'), ('Tab', 'NNP'), ('2', 'CD'), ('10.1', 'CD'), (',', ','), ('Galaxy', 'NNP'), ('Rugby', 'NNP'), ('Pro', 'NNP'), ('and', 'CC'), ('Galaxy', 'NNP'), ('S', 'NNP'), ('III', 'NNP'), ('mini', 'NN'), ('.', '.')], [('Apple', 'NNP'), ('stated', 'VBD'), ('it', 'PRP'), ('had', 'VBD'), ('“', 'NNP'), ('acted', 'VBD'), ('quickly', 'RB'), ('and', 'CC'), ('diligently', 'RB'), (\"''\", \"''\"), ('in', 'IN'), ('order', 'NN'), ('to', 'TO'), ('``', '``'), ('determine', 'VB'), ('that', 'IN'), ('these', 'DT'), ('newly', 'RB'), ('released', 'VBN'), ('products', 'NNS'), ('do', 'VBP'), ('infringe', 'VB'), ('many', 'JJ'), ('of', 'IN'), ('the', 'DT'), ('same', 'JJ'), ('claims', 'NNS'), ('already', 'RB'), ('asserted', 'VBN'), ('by', 'IN'), ('Apple', 'NNP'), ('.', '.'), (\"''\", \"''\")], [('In', 'IN'), ('August', 'NNP'), (',', ','), ('Samsung', 'NNP'), ('lost', 'VBD'), ('a', 'DT'), ('US', 'NNP'), ('patent', 'NN'), ('case', 'NN'), ('to', 'TO'), ('Apple', 'NNP'), ('and', 'CC'), ('was', 'VBD'), ('ordered', 'VBN'), ('to', 'TO'), ('pay', 'VB'), ('its', 'PRP$'), ('rival', 'JJ'), ('$', '$'), ('1.05bn', 'CD'), ('(', '('), ('£0.66bn', 'NN'), (')', ')'), ('in', 'IN'), ('damages', 'NNS'), ('for', 'IN'), ('copying', 'VBG'), ('features', 'NNS'), ('of', 'IN'), ('the', 'DT'), ('iPad', 'NN'), ('and', 'CC'), ('iPhone', 'NN'), ('in', 'IN'), ('its', 'PRP$'), ('Galaxy', 'NNP'), ('range', 'NN'), ('of', 'IN'), ('devices', 'NNS'), ('.', '.')], [('Samsung', 'NNP'), (',', ','), ('which', 'WDT'), ('is', 'VBZ'), ('the', 'DT'), ('world', 'NN'), (\"'s\", 'POS'), ('top', 'JJ'), ('mobile', 'NN'), ('phone', 'NN'), ('maker', 'NN'), (',', ','), ('is', 'VBZ'), ('appealing', 'VBG'), ('the', 'DT'), ('ruling', 'NN'), ('.', '.')], [('A', 'DT'), ('similar', 'JJ'), ('case', 'NN'), ('in', 'IN'), ('the', 'DT'), ('UK', 'NNP'), ('found', 'VBD'), ('in', 'IN'), ('Samsung', 'NNP'), (\"'s\", 'POS'), ('favour', 'NN'), ('and', 'CC'), ('ordered', 'VBD'), ('Apple', 'NNP'), ('to', 'TO'), ('publish', 'VB'), ('an', 'DT'), ('apology', 'NN'), ('making', 'VBG'), ('clear', 'JJ'), ('that', 'IN'), ('the', 'DT'), ('South', 'JJ'), ('Korean', 'JJ'), ('firm', 'NN'), ('had', 'VBD'), ('not', 'RB'), ('copied', 'VBN'), ('its', 'PRP$'), ('iPad', 'NN'), ('when', 'WRB'), ('designing', 'VBG'), ('its', 'PRP$'), ('own', 'JJ'), ('devices', 'NNS'), ('.', '.')]]\n"
     ]
    }
   ],
   "source": [
    "print(pos_tags_per_sentence)"
   ]
  },
  {
   "cell_type": "markdown",
   "metadata": {},
   "source": [
    "### [point: 1] Exercise 1b: Named Entity Recognition (NER)\n",
    "Use `nltk.chunk.ne_chunk` to perform Named Entity Recognition (NER) on each sentence.\n",
    "\n",
    "Use `print` to **show** the output in the notebook (and hence also in the exported PDF!)."
   ]
  },
  {
   "cell_type": "code",
   "execution_count": 13,
   "metadata": {},
   "outputs": [],
   "source": [
    "from nltk.chunk import ne_chunk"
   ]
  },
  {
   "cell_type": "code",
   "execution_count": 14,
   "metadata": {},
   "outputs": [],
   "source": [
    "ner_tags_per_sentence = []\n",
    "for pos_tags in pos_tags_per_sentence: #from before (List[Tuple])\n",
    "    ner_tree = ne_chunk(pos_tags)\n",
    "    ner_tags_per_sentence.append(ner_tree)\n",
    "    #print(ner_tree)"
   ]
  },
  {
   "cell_type": "code",
   "execution_count": 15,
   "metadata": {},
   "outputs": [
    {
     "name": "stdout",
     "output_type": "stream",
     "text": [
      "[Tree('S', [('https', 'NN'), (':', ':'), ('//www.telegraph.co.uk/technology/apple/9702716/Apple-Samsung-lawsuit-six-more-products-under-scrutiny.html', 'JJ'), ('Documents', 'NNS'), ('filed', 'VBN'), ('to', 'TO'), ('the', 'DT'), Tree('ORGANIZATION', [('San', 'NNP'), ('Jose', 'NNP')]), ('federal', 'JJ'), ('court', 'NN'), ('in', 'IN'), Tree('GPE', [('California', 'NNP')]), ('on', 'IN'), ('November', 'NNP'), ('23', 'CD'), ('list', 'NN'), ('six', 'CD'), Tree('ORGANIZATION', [('Samsung', 'NNP')]), ('products', 'NNS'), ('running', 'VBG'), ('the', 'DT'), ('``', '``'), ('Jelly', 'RB'), Tree('GPE', [('Bean', 'NNP')]), (\"''\", \"''\"), ('and', 'CC'), ('``', '``'), ('Ice', 'NNP'), ('Cream', 'NNP'), ('Sandwich', 'NNP'), (\"''\", \"''\"), ('operating', 'VBG'), ('systems', 'NNS'), (',', ','), ('which', 'WDT'), Tree('PERSON', [('Apple', 'NNP')]), ('claims', 'VBZ'), ('infringe', 'VB'), ('its', 'PRP$'), ('patents', 'NNS'), ('.', '.')]), Tree('S', [('The', 'DT'), ('six', 'CD'), ('phones', 'NNS'), ('and', 'CC'), ('tablets', 'NNS'), ('affected', 'VBN'), ('are', 'VBP'), ('the', 'DT'), Tree('ORGANIZATION', [('Galaxy', 'NNP')]), ('S', 'NNP'), ('III', 'NNP'), (',', ','), ('running', 'VBG'), ('the', 'DT'), ('new', 'JJ'), Tree('PERSON', [('Jelly', 'NNP'), ('Bean', 'NNP')]), ('system', 'NN'), (',', ','), ('the', 'DT'), Tree('ORGANIZATION', [('Galaxy', 'NNP')]), ('Tab', 'NNP'), ('8.9', 'CD'), ('Wifi', 'NNP'), ('tablet', 'NN'), (',', ','), ('the', 'DT'), Tree('ORGANIZATION', [('Galaxy', 'NNP')]), ('Tab', 'NNP'), ('2', 'CD'), ('10.1', 'CD'), (',', ','), Tree('PERSON', [('Galaxy', 'NNP'), ('Rugby', 'NNP'), ('Pro', 'NNP')]), ('and', 'CC'), Tree('PERSON', [('Galaxy', 'NNP'), ('S', 'NNP')]), ('III', 'NNP'), ('mini', 'NN'), ('.', '.')]), Tree('S', [Tree('PERSON', [('Apple', 'NNP')]), ('stated', 'VBD'), ('it', 'PRP'), ('had', 'VBD'), ('“', 'NNP'), ('acted', 'VBD'), ('quickly', 'RB'), ('and', 'CC'), ('diligently', 'RB'), (\"''\", \"''\"), ('in', 'IN'), ('order', 'NN'), ('to', 'TO'), ('``', '``'), ('determine', 'VB'), ('that', 'IN'), ('these', 'DT'), ('newly', 'RB'), ('released', 'VBN'), ('products', 'NNS'), ('do', 'VBP'), ('infringe', 'VB'), ('many', 'JJ'), ('of', 'IN'), ('the', 'DT'), ('same', 'JJ'), ('claims', 'NNS'), ('already', 'RB'), ('asserted', 'VBN'), ('by', 'IN'), Tree('PERSON', [('Apple', 'NNP')]), ('.', '.'), (\"''\", \"''\")]), Tree('S', [('In', 'IN'), Tree('GPE', [('August', 'NNP')]), (',', ','), Tree('PERSON', [('Samsung', 'NNP')]), ('lost', 'VBD'), ('a', 'DT'), Tree('GSP', [('US', 'NNP')]), ('patent', 'NN'), ('case', 'NN'), ('to', 'TO'), Tree('GPE', [('Apple', 'NNP')]), ('and', 'CC'), ('was', 'VBD'), ('ordered', 'VBN'), ('to', 'TO'), ('pay', 'VB'), ('its', 'PRP$'), ('rival', 'JJ'), ('$', '$'), ('1.05bn', 'CD'), ('(', '('), ('£0.66bn', 'NN'), (')', ')'), ('in', 'IN'), ('damages', 'NNS'), ('for', 'IN'), ('copying', 'VBG'), ('features', 'NNS'), ('of', 'IN'), ('the', 'DT'), Tree('ORGANIZATION', [('iPad', 'NN')]), ('and', 'CC'), Tree('ORGANIZATION', [('iPhone', 'NN')]), ('in', 'IN'), ('its', 'PRP$'), Tree('GPE', [('Galaxy', 'NNP')]), ('range', 'NN'), ('of', 'IN'), ('devices', 'NNS'), ('.', '.')]), Tree('S', [Tree('GPE', [('Samsung', 'NNP')]), (',', ','), ('which', 'WDT'), ('is', 'VBZ'), ('the', 'DT'), ('world', 'NN'), (\"'s\", 'POS'), ('top', 'JJ'), ('mobile', 'NN'), ('phone', 'NN'), ('maker', 'NN'), (',', ','), ('is', 'VBZ'), ('appealing', 'VBG'), ('the', 'DT'), ('ruling', 'NN'), ('.', '.')]), Tree('S', [('A', 'DT'), ('similar', 'JJ'), ('case', 'NN'), ('in', 'IN'), ('the', 'DT'), Tree('ORGANIZATION', [('UK', 'NNP')]), ('found', 'VBD'), ('in', 'IN'), Tree('GPE', [('Samsung', 'NNP')]), (\"'s\", 'POS'), ('favour', 'NN'), ('and', 'CC'), ('ordered', 'VBD'), Tree('PERSON', [('Apple', 'NNP')]), ('to', 'TO'), ('publish', 'VB'), ('an', 'DT'), ('apology', 'NN'), ('making', 'VBG'), ('clear', 'JJ'), ('that', 'IN'), ('the', 'DT'), Tree('LOCATION', [('South', 'JJ'), ('Korean', 'JJ')]), ('firm', 'NN'), ('had', 'VBD'), ('not', 'RB'), ('copied', 'VBN'), ('its', 'PRP$'), ('iPad', 'NN'), ('when', 'WRB'), ('designing', 'VBG'), ('its', 'PRP$'), ('own', 'JJ'), ('devices', 'NNS'), ('.', '.')])]\n"
     ]
    }
   ],
   "source": [
    "print(ner_tags_per_sentence)"
   ]
  },
  {
   "cell_type": "markdown",
   "metadata": {},
   "source": [
    "### [points: 2] Exercise 1c: Constituency parsing\n",
    "Use the `nltk.RegexpParser` to perform constituency parsing on each sentence.\n",
    "\n",
    "Use `print` to **show** the output in the notebook (and hence also in the exported PDF!)."
   ]
  },
  {
   "cell_type": "code",
   "execution_count": 16,
   "metadata": {},
   "outputs": [],
   "source": [
    "constituent_parser = nltk.RegexpParser('''\n",
    "NP: {<DT>? <JJ>* <NN>*} # NP\n",
    "P: {<IN>}           # Preposition\n",
    "V: {<V.*>}          # Verb\n",
    "PP: {<P> <NP>}      # PP -> P NP\n",
    "VP: {<V> <NP|PP>*}  # VP -> V (NP|PP)*''')"
   ]
  },
  {
   "cell_type": "code",
   "execution_count": 17,
   "metadata": {},
   "outputs": [],
   "source": [
    "constituency_output_per_sentence = []\n",
    "for pos_tags in pos_tags_per_sentence:\n",
    "    # Parse the POS-tagged sentence using the defined grammar\n",
    "    parse_tree = constituent_parser.parse(pos_tags)\n",
    "    constituency_output_per_sentence.append(parse_tree)\n",
    "    #print(parse_tree)"
   ]
  },
  {
   "cell_type": "code",
   "execution_count": 18,
   "metadata": {},
   "outputs": [
    {
     "name": "stdout",
     "output_type": "stream",
     "text": [
      "[Tree('S', [Tree('NP', [('https', 'NN')]), (':', ':'), Tree('NP', [('//www.telegraph.co.uk/technology/apple/9702716/Apple-Samsung-lawsuit-six-more-products-under-scrutiny.html', 'JJ')]), ('Documents', 'NNS'), Tree('VP', [Tree('V', [('filed', 'VBN')])]), ('to', 'TO'), Tree('NP', [('the', 'DT')]), ('San', 'NNP'), ('Jose', 'NNP'), Tree('NP', [('federal', 'JJ'), ('court', 'NN')]), Tree('P', [('in', 'IN')]), ('California', 'NNP'), Tree('P', [('on', 'IN')]), ('November', 'NNP'), ('23', 'CD'), Tree('NP', [('list', 'NN')]), ('six', 'CD'), ('Samsung', 'NNP'), ('products', 'NNS'), Tree('VP', [Tree('V', [('running', 'VBG')]), Tree('NP', [('the', 'DT')])]), ('``', '``'), ('Jelly', 'RB'), ('Bean', 'NNP'), (\"''\", \"''\"), ('and', 'CC'), ('``', '``'), ('Ice', 'NNP'), ('Cream', 'NNP'), ('Sandwich', 'NNP'), (\"''\", \"''\"), Tree('VP', [Tree('V', [('operating', 'VBG')])]), ('systems', 'NNS'), (',', ','), ('which', 'WDT'), ('Apple', 'NNP'), Tree('VP', [Tree('V', [('claims', 'VBZ')])]), Tree('VP', [Tree('V', [('infringe', 'VB')])]), ('its', 'PRP$'), ('patents', 'NNS'), ('.', '.')]), Tree('S', [Tree('NP', [('The', 'DT')]), ('six', 'CD'), ('phones', 'NNS'), ('and', 'CC'), ('tablets', 'NNS'), Tree('VP', [Tree('V', [('affected', 'VBN')])]), Tree('VP', [Tree('V', [('are', 'VBP')]), Tree('NP', [('the', 'DT')])]), ('Galaxy', 'NNP'), ('S', 'NNP'), ('III', 'NNP'), (',', ','), Tree('VP', [Tree('V', [('running', 'VBG')]), Tree('NP', [('the', 'DT'), ('new', 'JJ')])]), ('Jelly', 'NNP'), ('Bean', 'NNP'), Tree('NP', [('system', 'NN')]), (',', ','), Tree('NP', [('the', 'DT')]), ('Galaxy', 'NNP'), ('Tab', 'NNP'), ('8.9', 'CD'), ('Wifi', 'NNP'), Tree('NP', [('tablet', 'NN')]), (',', ','), Tree('NP', [('the', 'DT')]), ('Galaxy', 'NNP'), ('Tab', 'NNP'), ('2', 'CD'), ('10.1', 'CD'), (',', ','), ('Galaxy', 'NNP'), ('Rugby', 'NNP'), ('Pro', 'NNP'), ('and', 'CC'), ('Galaxy', 'NNP'), ('S', 'NNP'), ('III', 'NNP'), Tree('NP', [('mini', 'NN')]), ('.', '.')]), Tree('S', [('Apple', 'NNP'), Tree('VP', [Tree('V', [('stated', 'VBD')])]), ('it', 'PRP'), Tree('VP', [Tree('V', [('had', 'VBD')])]), ('“', 'NNP'), Tree('VP', [Tree('V', [('acted', 'VBD')])]), ('quickly', 'RB'), ('and', 'CC'), ('diligently', 'RB'), (\"''\", \"''\"), Tree('PP', [Tree('P', [('in', 'IN')]), Tree('NP', [('order', 'NN')])]), ('to', 'TO'), ('``', '``'), Tree('VP', [Tree('V', [('determine', 'VB')]), Tree('PP', [Tree('P', [('that', 'IN')]), Tree('NP', [('these', 'DT')])])]), ('newly', 'RB'), Tree('VP', [Tree('V', [('released', 'VBN')])]), ('products', 'NNS'), Tree('VP', [Tree('V', [('do', 'VBP')])]), Tree('VP', [Tree('V', [('infringe', 'VB')]), Tree('NP', [('many', 'JJ')]), Tree('PP', [Tree('P', [('of', 'IN')]), Tree('NP', [('the', 'DT'), ('same', 'JJ')])])]), ('claims', 'NNS'), ('already', 'RB'), Tree('VP', [Tree('V', [('asserted', 'VBN')])]), Tree('P', [('by', 'IN')]), ('Apple', 'NNP'), ('.', '.'), (\"''\", \"''\")]), Tree('S', [Tree('P', [('In', 'IN')]), ('August', 'NNP'), (',', ','), ('Samsung', 'NNP'), Tree('VP', [Tree('V', [('lost', 'VBD')]), Tree('NP', [('a', 'DT')])]), ('US', 'NNP'), Tree('NP', [('patent', 'NN'), ('case', 'NN')]), ('to', 'TO'), ('Apple', 'NNP'), ('and', 'CC'), Tree('VP', [Tree('V', [('was', 'VBD')])]), Tree('VP', [Tree('V', [('ordered', 'VBN')])]), ('to', 'TO'), Tree('VP', [Tree('V', [('pay', 'VB')])]), ('its', 'PRP$'), Tree('NP', [('rival', 'JJ')]), ('$', '$'), ('1.05bn', 'CD'), ('(', '('), Tree('NP', [('£0.66bn', 'NN')]), (')', ')'), Tree('P', [('in', 'IN')]), ('damages', 'NNS'), Tree('P', [('for', 'IN')]), Tree('VP', [Tree('V', [('copying', 'VBG')])]), ('features', 'NNS'), Tree('PP', [Tree('P', [('of', 'IN')]), Tree('NP', [('the', 'DT'), ('iPad', 'NN')])]), ('and', 'CC'), Tree('NP', [('iPhone', 'NN')]), Tree('P', [('in', 'IN')]), ('its', 'PRP$'), ('Galaxy', 'NNP'), Tree('NP', [('range', 'NN')]), Tree('P', [('of', 'IN')]), ('devices', 'NNS'), ('.', '.')]), Tree('S', [('Samsung', 'NNP'), (',', ','), ('which', 'WDT'), Tree('VP', [Tree('V', [('is', 'VBZ')]), Tree('NP', [('the', 'DT'), ('world', 'NN')])]), (\"'s\", 'POS'), Tree('NP', [('top', 'JJ'), ('mobile', 'NN'), ('phone', 'NN'), ('maker', 'NN')]), (',', ','), Tree('VP', [Tree('V', [('is', 'VBZ')])]), Tree('VP', [Tree('V', [('appealing', 'VBG')]), Tree('NP', [('the', 'DT'), ('ruling', 'NN')])]), ('.', '.')]), Tree('S', [Tree('NP', [('A', 'DT'), ('similar', 'JJ'), ('case', 'NN')]), Tree('PP', [Tree('P', [('in', 'IN')]), Tree('NP', [('the', 'DT')])]), ('UK', 'NNP'), Tree('VP', [Tree('V', [('found', 'VBD')])]), Tree('P', [('in', 'IN')]), ('Samsung', 'NNP'), (\"'s\", 'POS'), Tree('NP', [('favour', 'NN')]), ('and', 'CC'), Tree('VP', [Tree('V', [('ordered', 'VBD')])]), ('Apple', 'NNP'), ('to', 'TO'), Tree('VP', [Tree('V', [('publish', 'VB')]), Tree('NP', [('an', 'DT'), ('apology', 'NN')])]), Tree('VP', [Tree('V', [('making', 'VBG')]), Tree('NP', [('clear', 'JJ')]), Tree('PP', [Tree('P', [('that', 'IN')]), Tree('NP', [('the', 'DT'), ('South', 'JJ'), ('Korean', 'JJ'), ('firm', 'NN')])])]), Tree('VP', [Tree('V', [('had', 'VBD')])]), ('not', 'RB'), Tree('VP', [Tree('V', [('copied', 'VBN')])]), ('its', 'PRP$'), Tree('NP', [('iPad', 'NN')]), ('when', 'WRB'), Tree('VP', [Tree('V', [('designing', 'VBG')])]), ('its', 'PRP$'), Tree('NP', [('own', 'JJ')]), ('devices', 'NNS'), ('.', '.')])]\n"
     ]
    }
   ],
   "source": [
    "print(constituency_output_per_sentence)"
   ]
  },
  {
   "cell_type": "markdown",
   "metadata": {},
   "source": [
    "Augment the RegexpParser so that it also detects Named Entity Phrases (NEP), e.g., that it detects *Galaxy S III* and *Ice Cream Sandwich*"
   ]
  },
  {
   "cell_type": "code",
   "execution_count": 19,
   "metadata": {},
   "outputs": [],
   "source": [
    "constituent_parser_v2 = nltk.RegexpParser('''\n",
    "NP: {<DT>? <JJ>* <NN>*} # NP\n",
    "P: {<IN>}           # Preposition\n",
    "V: {<V.*>}          # Verb\n",
    "PP: {<P> <NP>}      # PP -> P NP\n",
    "VP: {<V> <NP|PP>*}  # VP -> V (NP|PP)*\n",
    "NEP: {}             # ???''')"
   ]
  },
  {
   "cell_type": "code",
   "execution_count": 20,
   "metadata": {},
   "outputs": [],
   "source": [
    "constituency_v2_output_per_sentence = []\n",
    "for pos_tags in pos_tags_per_sentence:\n",
    "    # Parse the POS-tagged sentence using the defined grammar\n",
    "    parse_tree = constituent_parser_v2.parse(pos_tags)\n",
    "    constituency_v2_output_per_sentence.append(parse_tree)\n",
    "    #print(parse_tree)"
   ]
  },
  {
   "cell_type": "code",
   "execution_count": 21,
   "metadata": {},
   "outputs": [
    {
     "name": "stdout",
     "output_type": "stream",
     "text": [
      "[Tree('S', [Tree('NP', [('https', 'NN')]), (':', ':'), Tree('NP', [('//www.telegraph.co.uk/technology/apple/9702716/Apple-Samsung-lawsuit-six-more-products-under-scrutiny.html', 'JJ')]), ('Documents', 'NNS'), Tree('VP', [Tree('V', [('filed', 'VBN')])]), ('to', 'TO'), Tree('NP', [('the', 'DT')]), ('San', 'NNP'), ('Jose', 'NNP'), Tree('NP', [('federal', 'JJ'), ('court', 'NN')]), Tree('P', [('in', 'IN')]), ('California', 'NNP'), Tree('P', [('on', 'IN')]), ('November', 'NNP'), ('23', 'CD'), Tree('NP', [('list', 'NN')]), ('six', 'CD'), ('Samsung', 'NNP'), ('products', 'NNS'), Tree('VP', [Tree('V', [('running', 'VBG')]), Tree('NP', [('the', 'DT')])]), ('``', '``'), ('Jelly', 'RB'), ('Bean', 'NNP'), (\"''\", \"''\"), ('and', 'CC'), ('``', '``'), ('Ice', 'NNP'), ('Cream', 'NNP'), ('Sandwich', 'NNP'), (\"''\", \"''\"), Tree('VP', [Tree('V', [('operating', 'VBG')])]), ('systems', 'NNS'), (',', ','), ('which', 'WDT'), ('Apple', 'NNP'), Tree('VP', [Tree('V', [('claims', 'VBZ')])]), Tree('VP', [Tree('V', [('infringe', 'VB')])]), ('its', 'PRP$'), ('patents', 'NNS'), ('.', '.')]), Tree('S', [Tree('NP', [('The', 'DT')]), ('six', 'CD'), ('phones', 'NNS'), ('and', 'CC'), ('tablets', 'NNS'), Tree('VP', [Tree('V', [('affected', 'VBN')])]), Tree('VP', [Tree('V', [('are', 'VBP')]), Tree('NP', [('the', 'DT')])]), ('Galaxy', 'NNP'), ('S', 'NNP'), ('III', 'NNP'), (',', ','), Tree('VP', [Tree('V', [('running', 'VBG')]), Tree('NP', [('the', 'DT'), ('new', 'JJ')])]), ('Jelly', 'NNP'), ('Bean', 'NNP'), Tree('NP', [('system', 'NN')]), (',', ','), Tree('NP', [('the', 'DT')]), ('Galaxy', 'NNP'), ('Tab', 'NNP'), ('8.9', 'CD'), ('Wifi', 'NNP'), Tree('NP', [('tablet', 'NN')]), (',', ','), Tree('NP', [('the', 'DT')]), ('Galaxy', 'NNP'), ('Tab', 'NNP'), ('2', 'CD'), ('10.1', 'CD'), (',', ','), ('Galaxy', 'NNP'), ('Rugby', 'NNP'), ('Pro', 'NNP'), ('and', 'CC'), ('Galaxy', 'NNP'), ('S', 'NNP'), ('III', 'NNP'), Tree('NP', [('mini', 'NN')]), ('.', '.')]), Tree('S', [('Apple', 'NNP'), Tree('VP', [Tree('V', [('stated', 'VBD')])]), ('it', 'PRP'), Tree('VP', [Tree('V', [('had', 'VBD')])]), ('“', 'NNP'), Tree('VP', [Tree('V', [('acted', 'VBD')])]), ('quickly', 'RB'), ('and', 'CC'), ('diligently', 'RB'), (\"''\", \"''\"), Tree('PP', [Tree('P', [('in', 'IN')]), Tree('NP', [('order', 'NN')])]), ('to', 'TO'), ('``', '``'), Tree('VP', [Tree('V', [('determine', 'VB')]), Tree('PP', [Tree('P', [('that', 'IN')]), Tree('NP', [('these', 'DT')])])]), ('newly', 'RB'), Tree('VP', [Tree('V', [('released', 'VBN')])]), ('products', 'NNS'), Tree('VP', [Tree('V', [('do', 'VBP')])]), Tree('VP', [Tree('V', [('infringe', 'VB')]), Tree('NP', [('many', 'JJ')]), Tree('PP', [Tree('P', [('of', 'IN')]), Tree('NP', [('the', 'DT'), ('same', 'JJ')])])]), ('claims', 'NNS'), ('already', 'RB'), Tree('VP', [Tree('V', [('asserted', 'VBN')])]), Tree('P', [('by', 'IN')]), ('Apple', 'NNP'), ('.', '.'), (\"''\", \"''\")]), Tree('S', [Tree('P', [('In', 'IN')]), ('August', 'NNP'), (',', ','), ('Samsung', 'NNP'), Tree('VP', [Tree('V', [('lost', 'VBD')]), Tree('NP', [('a', 'DT')])]), ('US', 'NNP'), Tree('NP', [('patent', 'NN'), ('case', 'NN')]), ('to', 'TO'), ('Apple', 'NNP'), ('and', 'CC'), Tree('VP', [Tree('V', [('was', 'VBD')])]), Tree('VP', [Tree('V', [('ordered', 'VBN')])]), ('to', 'TO'), Tree('VP', [Tree('V', [('pay', 'VB')])]), ('its', 'PRP$'), Tree('NP', [('rival', 'JJ')]), ('$', '$'), ('1.05bn', 'CD'), ('(', '('), Tree('NP', [('£0.66bn', 'NN')]), (')', ')'), Tree('P', [('in', 'IN')]), ('damages', 'NNS'), Tree('P', [('for', 'IN')]), Tree('VP', [Tree('V', [('copying', 'VBG')])]), ('features', 'NNS'), Tree('PP', [Tree('P', [('of', 'IN')]), Tree('NP', [('the', 'DT'), ('iPad', 'NN')])]), ('and', 'CC'), Tree('NP', [('iPhone', 'NN')]), Tree('P', [('in', 'IN')]), ('its', 'PRP$'), ('Galaxy', 'NNP'), Tree('NP', [('range', 'NN')]), Tree('P', [('of', 'IN')]), ('devices', 'NNS'), ('.', '.')]), Tree('S', [('Samsung', 'NNP'), (',', ','), ('which', 'WDT'), Tree('VP', [Tree('V', [('is', 'VBZ')]), Tree('NP', [('the', 'DT'), ('world', 'NN')])]), (\"'s\", 'POS'), Tree('NP', [('top', 'JJ'), ('mobile', 'NN'), ('phone', 'NN'), ('maker', 'NN')]), (',', ','), Tree('VP', [Tree('V', [('is', 'VBZ')])]), Tree('VP', [Tree('V', [('appealing', 'VBG')]), Tree('NP', [('the', 'DT'), ('ruling', 'NN')])]), ('.', '.')]), Tree('S', [Tree('NP', [('A', 'DT'), ('similar', 'JJ'), ('case', 'NN')]), Tree('PP', [Tree('P', [('in', 'IN')]), Tree('NP', [('the', 'DT')])]), ('UK', 'NNP'), Tree('VP', [Tree('V', [('found', 'VBD')])]), Tree('P', [('in', 'IN')]), ('Samsung', 'NNP'), (\"'s\", 'POS'), Tree('NP', [('favour', 'NN')]), ('and', 'CC'), Tree('VP', [Tree('V', [('ordered', 'VBD')])]), ('Apple', 'NNP'), ('to', 'TO'), Tree('VP', [Tree('V', [('publish', 'VB')]), Tree('NP', [('an', 'DT'), ('apology', 'NN')])]), Tree('VP', [Tree('V', [('making', 'VBG')]), Tree('NP', [('clear', 'JJ')]), Tree('PP', [Tree('P', [('that', 'IN')]), Tree('NP', [('the', 'DT'), ('South', 'JJ'), ('Korean', 'JJ'), ('firm', 'NN')])])]), Tree('VP', [Tree('V', [('had', 'VBD')])]), ('not', 'RB'), Tree('VP', [Tree('V', [('copied', 'VBN')])]), ('its', 'PRP$'), Tree('NP', [('iPad', 'NN')]), ('when', 'WRB'), Tree('VP', [Tree('V', [('designing', 'VBG')])]), ('its', 'PRP$'), Tree('NP', [('own', 'JJ')]), ('devices', 'NNS'), ('.', '.')])]\n"
     ]
    }
   ],
   "source": [
    "print(constituency_v2_output_per_sentence)"
   ]
  },
  {
   "cell_type": "markdown",
   "metadata": {},
   "source": [
    "## [total points: 1] Exercise 2: spaCy\n",
    "Use Spacy to process the same text as you analyzed with NLTK."
   ]
  },
  {
   "cell_type": "code",
   "execution_count": 22,
   "metadata": {},
   "outputs": [],
   "source": [
    "import spacy\n",
    "nlp = spacy.load('en_core_web_sm')"
   ]
  },
  {
   "cell_type": "code",
   "execution_count": 23,
   "metadata": {},
   "outputs": [
    {
     "name": "stdout",
     "output_type": "stream",
     "text": [
      "https://www.telegraph.co.uk/technology/apple/9702716/Apple-Samsung-lawsuit-six-more-products-under-scrutiny.html https://www.telegraph.co.uk/technology/apple/9702716/Apple-Samsung-lawsuit-six-more-products-under-scrutiny.html NOUN  NNS   amod   \n",
      "\n",
      "\n",
      "              \n",
      "\n",
      "              SPACE _SP   dep    \n",
      "Documents       document        NOUN  NNS   nsubj  \n",
      "filed           file            VERB  VBD   ROOT   \n",
      "to              to              ADP   IN    prep   \n",
      "the             the             DET   DT    det    \n",
      "San             San             PROPN NNP   nmod   \n",
      "Jose            Jose            PROPN NNP   nmod   \n",
      "federal         federal         ADJ   JJ    amod   \n",
      "court           court           NOUN  NN    pobj   \n",
      "in              in              ADP   IN    prep   \n",
      "California      California      PROPN NNP   pobj   \n",
      "on              on              ADP   IN    prep   \n",
      "November        November        PROPN NNP   pobj   \n",
      "23              23              NUM   CD    nummod \n",
      "list            list            NOUN  NN    compound\n",
      "six             six             NUM   CD    nummod \n",
      "Samsung         Samsung         PROPN NNP   compound\n",
      "products        product         NOUN  NNS   dobj   \n",
      "running         run             VERB  VBG   acl    \n",
      "the             the             DET   DT    det    \n",
      "\"               \"               PUNCT ``    punct  \n",
      "Jelly           Jelly           PROPN NNP   compound\n",
      "Bean            Bean            PROPN NNP   dobj   \n",
      "\"               \"               PUNCT ''    punct  \n",
      "and             and             CCONJ CC    cc     \n",
      "\"               \"               PUNCT ``    punct  \n",
      "Ice             Ice             PROPN NNP   compound\n",
      "Cream           Cream           PROPN NNP   compound\n",
      "Sandwich        sandwich        NOUN  NN    nmod   \n",
      "\"               \"               PUNCT ''    punct  \n",
      "operating       operating       NOUN  NN    compound\n",
      "systems         system          NOUN  NNS   conj   \n",
      ",               ,               PUNCT ,     punct  \n",
      "which           which           PRON  WDT   nsubj  \n",
      "Apple           Apple           PROPN NNP   compound\n",
      "claims          claim           VERB  VBZ   nsubj  \n",
      "infringe        infringe        VERB  VBP   relcl  \n",
      "its             its             PRON  PRP$  poss   \n",
      "patents         patent          NOUN  NNS   dobj   \n",
      ".               .               PUNCT .     punct  \n",
      "\n",
      "               \n",
      "               SPACE _SP   dep    \n",
      "The             the             DET   DT    det    \n",
      "six             six             NUM   CD    nummod \n",
      "phones          phone           NOUN  NNS   nsubj  \n",
      "and             and             CCONJ CC    cc     \n",
      "tablets         tablet          NOUN  NNS   conj   \n",
      "affected        affect          VERB  VBN   acl    \n",
      "are             be              AUX   VBP   ROOT   \n",
      "the             the             DET   DT    det    \n",
      "Galaxy          Galaxy          PROPN NNP   compound\n",
      "S               S               PROPN NNP   compound\n",
      "III             III             PROPN NNP   attr   \n",
      ",               ,               PUNCT ,     punct  \n",
      "running         run             VERB  VBG   advcl  \n",
      "the             the             DET   DT    det    \n",
      "new             new             ADJ   JJ    amod   \n",
      "Jelly           Jelly           PROPN NNP   compound\n",
      "Bean            Bean            PROPN NNP   compound\n",
      "system          system          NOUN  NN    dobj   \n",
      ",               ,               PUNCT ,     punct  \n",
      "the             the             DET   DT    det    \n",
      "Galaxy          Galaxy          PROPN NNP   compound\n",
      "Tab             Tab             PROPN NNP   nmod   \n",
      "8.9             8.9             NUM   CD    nummod \n",
      "Wifi            Wifi            PROPN NNP   compound\n",
      "tablet          tablet          NOUN  NN    appos  \n",
      ",               ,               PUNCT ,     punct  \n",
      "the             the             DET   DT    det    \n",
      "Galaxy          Galaxy          PROPN NNP   compound\n",
      "Tab             Tab             PROPN NNP   conj   \n",
      "2               2               NUM   CD    compound\n",
      "10.1            10.1            NUM   CD    nummod \n",
      ",               ,               PUNCT ,     punct  \n",
      "Galaxy          Galaxy          PROPN NNP   compound\n",
      "Rugby           Rugby           PROPN NNP   compound\n",
      "Pro             Pro             PROPN NNP   conj   \n",
      "and             and             CCONJ CC    cc     \n",
      "Galaxy          Galaxy          PROPN NNP   compound\n",
      "S               S               PROPN NNP   compound\n",
      "III             III             PROPN NNP   conj   \n",
      "mini            mini            NOUN  NN    appos  \n",
      ".               .               PUNCT .     punct  \n",
      "\n",
      "               \n",
      "               SPACE _SP   dep    \n",
      "Apple           Apple           PROPN NNP   nsubj  \n",
      "stated          state           VERB  VBD   ROOT   \n",
      "it              it              PRON  PRP   nsubj  \n",
      "had             have            AUX   VBD   aux    \n",
      "“               \"               PUNCT ``    punct  \n",
      "acted           act             VERB  VBN   ccomp  \n",
      "quickly         quickly         ADV   RB    advmod \n",
      "and             and             CCONJ CC    cc     \n",
      "diligently      diligently      ADV   RB    conj   \n",
      "\"               \"               PUNCT ''    punct  \n",
      "in              in              ADP   IN    prep   \n",
      "order           order           NOUN  NN    pobj   \n",
      "to              to              PART  TO    aux    \n",
      "\"               \"               PUNCT ``    punct  \n",
      "determine       determine       VERB  VB    acl    \n",
      "that            that            SCONJ IN    mark   \n",
      "these           these           DET   DT    det    \n",
      "newly           newly           ADV   RB    advmod \n",
      "released        release         VERB  VBN   amod   \n",
      "products        product         NOUN  NNS   nsubj  \n",
      "do              do              AUX   VBP   aux    \n",
      "infringe        infringe        VERB  VB    ccomp  \n",
      "many            many            ADJ   JJ    dobj   \n",
      "of              of              ADP   IN    prep   \n",
      "the             the             DET   DT    det    \n",
      "same            same            ADJ   JJ    amod   \n",
      "claims          claim           NOUN  NNS   pobj   \n",
      "already         already         ADV   RB    advmod \n",
      "asserted        assert          VERB  VBN   acl    \n",
      "by              by              ADP   IN    agent  \n",
      "Apple           Apple           PROPN NNP   pobj   \n",
      ".               .               PUNCT .     punct  \n",
      "\"               \"               PUNCT ''    punct  \n",
      "\n",
      "               \n",
      "               SPACE _SP   dep    \n",
      "In              in              ADP   IN    prep   \n",
      "August          August          PROPN NNP   pobj   \n",
      ",               ,               PUNCT ,     punct  \n",
      "Samsung         Samsung         PROPN NNP   nsubj  \n",
      "lost            lose            VERB  VBD   ROOT   \n",
      "a               a               DET   DT    det    \n",
      "US              US              PROPN NNP   compound\n",
      "patent          patent          NOUN  NN    compound\n",
      "case            case            NOUN  NN    dobj   \n",
      "to              to              ADP   IN    prep   \n",
      "Apple           Apple           PROPN NNP   pobj   \n",
      "and             and             CCONJ CC    cc     \n",
      "was             be              AUX   VBD   auxpass\n",
      "ordered         order           VERB  VBN   conj   \n",
      "to              to              PART  TO    aux    \n",
      "pay             pay             VERB  VB    xcomp  \n",
      "its             its             PRON  PRP$  poss   \n",
      "rival           rival           NOUN  NN    dative \n",
      "$               $               SYM   $     nmod   \n",
      "1.05bn          1.05bn          NUM   CD    dobj   \n",
      "(               (               PUNCT -LRB- punct  \n",
      "£               £               SYM   $     nmod   \n",
      "0.66bn          0.66bn          NOUN  NN    appos  \n",
      ")               )               PUNCT -RRB- punct  \n",
      "in              in              ADP   IN    prep   \n",
      "damages         damage          NOUN  NNS   pobj   \n",
      "for             for             ADP   IN    prep   \n",
      "copying         copy            VERB  VBG   pcomp  \n",
      "features        feature         NOUN  NNS   dobj   \n",
      "of              of              ADP   IN    prep   \n",
      "the             the             DET   DT    det    \n",
      "iPad            iPad            PROPN NNP   pobj   \n",
      "and             and             CCONJ CC    cc     \n",
      "iPhone          iPhone          PROPN NNP   conj   \n",
      "in              in              ADP   IN    prep   \n",
      "its             its             PRON  PRP$  poss   \n",
      "Galaxy          Galaxy          PROPN NNP   compound\n",
      "range           range           NOUN  NN    pobj   \n",
      "of              of              ADP   IN    prep   \n",
      "devices         device          NOUN  NNS   pobj   \n",
      ".               .               PUNCT .     punct  \n",
      "Samsung         Samsung         PROPN NNP   nsubj  \n",
      ",               ,               PUNCT ,     punct  \n",
      "which           which           PRON  WDT   nsubj  \n",
      "is              be              AUX   VBZ   relcl  \n",
      "the             the             DET   DT    det    \n",
      "world           world           NOUN  NN    poss   \n",
      "'s              's              PART  POS   case   \n",
      "top             top             ADJ   JJ    amod   \n",
      "mobile          mobile          ADJ   JJ    amod   \n",
      "phone           phone           NOUN  NN    compound\n",
      "maker           maker           NOUN  NN    attr   \n",
      ",               ,               PUNCT ,     punct  \n",
      "is              be              AUX   VBZ   aux    \n",
      "appealing       appeal          VERB  VBG   ROOT   \n",
      "the             the             DET   DT    det    \n",
      "ruling          ruling          NOUN  NN    dobj   \n",
      ".               .               PUNCT .     punct  \n",
      "\n",
      "               \n",
      "               SPACE _SP   dep    \n",
      "A               a               DET   DT    det    \n",
      "similar         similar         ADJ   JJ    amod   \n",
      "case            case            NOUN  NN    nsubj  \n",
      "in              in              ADP   IN    prep   \n",
      "the             the             DET   DT    det    \n",
      "UK              UK              PROPN NNP   pobj   \n",
      "found           find            VERB  VBN   ROOT   \n",
      "in              in              ADP   IN    prep   \n",
      "Samsung         Samsung         PROPN NNP   poss   \n",
      "'s              's              PART  POS   case   \n",
      "favour          favour          NOUN  NN    pobj   \n",
      "and             and             CCONJ CC    cc     \n",
      "ordered         order           VERB  VBD   conj   \n",
      "Apple           Apple           PROPN NNP   dobj   \n",
      "to              to              PART  TO    aux    \n",
      "publish         publish         VERB  VB    xcomp  \n",
      "an              an              DET   DT    det    \n",
      "apology         apology         NOUN  NN    dobj   \n",
      "making          make            VERB  VBG   acl    \n",
      "clear           clear           ADJ   JJ    acomp  \n",
      "that            that            SCONJ IN    mark   \n",
      "the             the             DET   DT    det    \n",
      "South           south           ADJ   JJ    amod   \n",
      "Korean          korean          ADJ   JJ    amod   \n",
      "firm            firm            NOUN  NN    nsubj  \n",
      "had             have            AUX   VBD   aux    \n",
      "not             not             PART  RB    neg    \n",
      "copied          copy            VERB  VBN   ccomp  \n",
      "its             its             PRON  PRP$  poss   \n",
      "iPad            iPad            PROPN NNP   dobj   \n",
      "when            when            SCONJ WRB   advmod \n",
      "designing       design          VERB  VBG   advcl  \n",
      "its             its             PRON  PRP$  poss   \n",
      "own             own             ADJ   JJ    amod   \n",
      "devices         device          NOUN  NNS   dobj   \n",
      ".               .               PUNCT .     punct  \n",
      "https://www.telegraph.co.uk/technology/apple/9702716/Apple-Samsung-lawsuit-six-more-products-under-scrutiny.html     0   112 TIME \n",
      "San Jose          137   145 GPE  \n",
      "California        163   173 GPE  \n",
      "November 23       177   188 DATE \n",
      "six               194   197 CARDINAL\n",
      "Samsung           198   205 ORG  \n",
      "the \"Jelly Bean   223   238 LAW  \n",
      "Apple             290   295 ORG  \n",
      "six               329   332 CARDINAL\n",
      "the Galaxy S III   365   381 ORG  \n",
      "Jelly Bean        399   409 ORG  \n",
      "8.9               433   436 CARDINAL\n",
      "2 10.1            465   471 DATE \n",
      "Galaxy Rugby Pro   473   489 ORG  \n",
      "Galaxy S III      494   506 PERSON\n",
      "Apple             513   518 ORG  \n",
      "Apple             678   683 ORG  \n",
      "August            689   695 DATE \n",
      "Samsung           697   704 ORG  \n",
      "US                712   714 GPE  \n",
      "Apple             730   735 ORG  \n",
      "1.05bn            770   776 MONEY\n",
      "0.66bn            779   785 MONEY\n",
      "iPad              826   830 ORG  \n",
      "Galaxy            849   855 FAC  \n",
      "Samsung           874   881 ORG  \n",
      "UK                975   977 GPE  \n",
      "Samsung           987   994 ORG  \n",
      "Apple            1016  1021 ORG  \n",
      "South Korean     1066  1078 NORP \n",
      "iPad             1103  1107 ORG  \n",
      "https://www.telegraph.co.uk/technology/apple/9702716/Apple-Samsung-lawsuit-six-more-products-under-scrutiny.html amod       Documents  NOUN  [\n",
      "\n",
      "]\n",
      "\n",
      "\n",
      "         dep        https://www.telegraph.co.uk/technology/apple/9702716/Apple-Samsung-lawsuit-six-more-products-under-scrutiny.html NOUN  []\n",
      "Documents  nsubj      filed      VERB  [https://www.telegraph.co.uk/technology/apple/9702716/Apple-Samsung-lawsuit-six-more-products-under-scrutiny.html]\n",
      "filed      ROOT       filed      VERB  [Documents, to, on, products, .]\n",
      "to         prep       filed      VERB  [court]\n",
      "the        det        court      NOUN  []\n",
      "San        nmod       Jose       PROPN []\n",
      "Jose       nmod       court      NOUN  [San]\n",
      "federal    amod       court      NOUN  []\n",
      "court      pobj       to         ADP   [the, Jose, federal, in]\n",
      "in         prep       court      NOUN  [California]\n",
      "California pobj       in         ADP   []\n",
      "on         prep       filed      VERB  [November]\n",
      "November   pobj       on         ADP   [23]\n",
      "23         nummod     November   PROPN []\n",
      "list       compound   products   NOUN  []\n",
      "six        nummod     products   NOUN  []\n",
      "Samsung    compound   products   NOUN  []\n",
      "products   dobj       filed      VERB  [list, six, Samsung, running]\n",
      "running    acl        products   NOUN  [Bean]\n",
      "the        det        Bean       PROPN []\n",
      "\"          punct      Bean       PROPN []\n",
      "Jelly      compound   Bean       PROPN []\n",
      "Bean       dobj       running    VERB  [the, \", Jelly, \", and, systems]\n",
      "\"          punct      Bean       PROPN []\n",
      "and        cc         Bean       PROPN []\n",
      "\"          punct      Sandwich   NOUN  []\n",
      "Ice        compound   Cream      PROPN []\n",
      "Cream      compound   Sandwich   NOUN  [Ice]\n",
      "Sandwich   nmod       systems    NOUN  [\", Cream, \"]\n",
      "\"          punct      Sandwich   NOUN  []\n",
      "operating  compound   systems    NOUN  []\n",
      "systems    conj       Bean       PROPN [Sandwich, operating, ,, infringe]\n",
      ",          punct      systems    NOUN  []\n",
      "which      nsubj      infringe   VERB  []\n",
      "Apple      compound   claims     VERB  []\n",
      "claims     nsubj      infringe   VERB  [Apple]\n",
      "infringe   relcl      systems    NOUN  [which, claims, patents]\n",
      "its        poss       patents    NOUN  []\n",
      "patents    dobj       infringe   VERB  [its]\n",
      ".          punct      filed      VERB  [\n",
      "]\n",
      "\n",
      "          dep        .          PUNCT []\n",
      "The        det        phones     NOUN  []\n",
      "six        nummod     phones     NOUN  []\n",
      "phones     nsubj      are        AUX   [The, six, and, tablets]\n",
      "and        cc         phones     NOUN  []\n",
      "tablets    conj       phones     NOUN  [affected]\n",
      "affected   acl        tablets    NOUN  []\n",
      "are        ROOT       are        AUX   [phones, III, ,, running, .]\n",
      "the        det        III        PROPN []\n",
      "Galaxy     compound   III        PROPN []\n",
      "S          compound   III        PROPN []\n",
      "III        attr       are        AUX   [the, Galaxy, S]\n",
      ",          punct      are        AUX   []\n",
      "running    advcl      are        AUX   [system]\n",
      "the        det        system     NOUN  []\n",
      "new        amod       system     NOUN  []\n",
      "Jelly      compound   Bean       PROPN []\n",
      "Bean       compound   system     NOUN  [Jelly]\n",
      "system     dobj       running    VERB  [the, new, Bean, ,, tablet]\n",
      ",          punct      system     NOUN  []\n",
      "the        det        tablet     NOUN  []\n",
      "Galaxy     compound   tablet     NOUN  []\n",
      "Tab        nmod       tablet     NOUN  []\n",
      "8.9        nummod     tablet     NOUN  []\n",
      "Wifi       compound   tablet     NOUN  []\n",
      "tablet     appos      system     NOUN  [the, Galaxy, Tab, 8.9, Wifi, ,, Tab]\n",
      ",          punct      tablet     NOUN  []\n",
      "the        det        Tab        PROPN []\n",
      "Galaxy     compound   Tab        PROPN []\n",
      "Tab        conj       tablet     NOUN  [the, Galaxy, 10.1, ,, Pro]\n",
      "2          compound   10.1       NUM   []\n",
      "10.1       nummod     Tab        PROPN [2]\n",
      ",          punct      Tab        PROPN []\n",
      "Galaxy     compound   Pro        PROPN []\n",
      "Rugby      compound   Pro        PROPN []\n",
      "Pro        conj       Tab        PROPN [Galaxy, Rugby, and, III, mini]\n",
      "and        cc         Pro        PROPN []\n",
      "Galaxy     compound   III        PROPN []\n",
      "S          compound   III        PROPN []\n",
      "III        conj       Pro        PROPN [Galaxy, S]\n",
      "mini       appos      Pro        PROPN []\n",
      ".          punct      are        AUX   [\n",
      "]\n",
      "\n",
      "          dep        .          PUNCT []\n",
      "Apple      nsubj      stated     VERB  []\n",
      "stated     ROOT       stated     VERB  [Apple, acted, .]\n",
      "it         nsubj      acted      VERB  []\n",
      "had        aux        acted      VERB  []\n",
      "“          punct      acted      VERB  []\n",
      "acted      ccomp      stated     VERB  [it, had, “, quickly, \", in]\n",
      "quickly    advmod     acted      VERB  [and, diligently]\n",
      "and        cc         quickly    ADV   []\n",
      "diligently conj       quickly    ADV   []\n",
      "\"          punct      acted      VERB  []\n",
      "in         prep       acted      VERB  [order]\n",
      "order      pobj       in         ADP   [determine]\n",
      "to         aux        determine  VERB  []\n",
      "\"          punct      determine  VERB  []\n",
      "determine  acl        order      NOUN  [to, \", infringe]\n",
      "that       mark       infringe   VERB  []\n",
      "these      det        products   NOUN  []\n",
      "newly      advmod     released   VERB  []\n",
      "released   amod       products   NOUN  [newly]\n",
      "products   nsubj      infringe   VERB  [these, released]\n",
      "do         aux        infringe   VERB  []\n",
      "infringe   ccomp      determine  VERB  [that, products, do, many]\n",
      "many       dobj       infringe   VERB  [of]\n",
      "of         prep       many       ADJ   [claims]\n",
      "the        det        claims     NOUN  []\n",
      "same       amod       claims     NOUN  []\n",
      "claims     pobj       of         ADP   [the, same, asserted]\n",
      "already    advmod     asserted   VERB  []\n",
      "asserted   acl        claims     NOUN  [already, by]\n",
      "by         agent      asserted   VERB  [Apple]\n",
      "Apple      pobj       by         ADP   []\n",
      ".          punct      stated     VERB  []\n",
      "\"          punct      lost       VERB  [\n",
      "]\n",
      "\n",
      "          dep        \"          PUNCT []\n",
      "In         prep       lost       VERB  [August]\n",
      "August     pobj       In         ADP   []\n",
      ",          punct      lost       VERB  []\n",
      "Samsung    nsubj      lost       VERB  []\n",
      "lost       ROOT       lost       VERB  [\", In, ,, Samsung, case, to, and, ordered, .]\n",
      "a          det        case       NOUN  []\n",
      "US         compound   case       NOUN  []\n",
      "patent     compound   case       NOUN  []\n",
      "case       dobj       lost       VERB  [a, US, patent]\n",
      "to         prep       lost       VERB  [Apple]\n",
      "Apple      pobj       to         ADP   []\n",
      "and        cc         lost       VERB  []\n",
      "was        auxpass    ordered    VERB  []\n",
      "ordered    conj       lost       VERB  [was, pay]\n",
      "to         aux        pay        VERB  []\n",
      "pay        xcomp      ordered    VERB  [to, rival, 1.05bn, in]\n",
      "its        poss       rival      NOUN  []\n",
      "rival      dative     pay        VERB  [its]\n",
      "$          nmod       1.05bn     NUM   []\n",
      "1.05bn     dobj       pay        VERB  [$, (, 0.66bn, )]\n",
      "(          punct      1.05bn     NUM   []\n",
      "£          nmod       0.66bn     NOUN  []\n",
      "0.66bn     appos      1.05bn     NUM   [£]\n",
      ")          punct      1.05bn     NUM   []\n",
      "in         prep       pay        VERB  [damages]\n",
      "damages    pobj       in         ADP   [for]\n",
      "for        prep       damages    NOUN  [copying]\n",
      "copying    pcomp      for        ADP   [features, in]\n",
      "features   dobj       copying    VERB  [of]\n",
      "of         prep       features   NOUN  [iPad]\n",
      "the        det        iPad       PROPN []\n",
      "iPad       pobj       of         ADP   [the, and, iPhone]\n",
      "and        cc         iPad       PROPN []\n",
      "iPhone     conj       iPad       PROPN []\n",
      "in         prep       copying    VERB  [range]\n",
      "its        poss       range      NOUN  []\n",
      "Galaxy     compound   range      NOUN  []\n",
      "range      pobj       in         ADP   [its, Galaxy, of]\n",
      "of         prep       range      NOUN  [devices]\n",
      "devices    pobj       of         ADP   []\n",
      ".          punct      lost       VERB  []\n",
      "Samsung    nsubj      appealing  VERB  [,, is, ,]\n",
      ",          punct      Samsung    PROPN []\n",
      "which      nsubj      is         AUX   []\n",
      "is         relcl      Samsung    PROPN [which, maker]\n",
      "the        det        world      NOUN  []\n",
      "world      poss       maker      NOUN  [the, 's]\n",
      "'s         case       world      NOUN  []\n",
      "top        amod       maker      NOUN  []\n",
      "mobile     amod       phone      NOUN  []\n",
      "phone      compound   maker      NOUN  [mobile]\n",
      "maker      attr       is         AUX   [world, top, phone]\n",
      ",          punct      Samsung    PROPN []\n",
      "is         aux        appealing  VERB  []\n",
      "appealing  ROOT       appealing  VERB  [Samsung, is, ruling, .]\n",
      "the        det        ruling     NOUN  []\n",
      "ruling     dobj       appealing  VERB  [the]\n",
      ".          punct      appealing  VERB  [\n",
      "]\n",
      "\n",
      "          dep        .          PUNCT []\n",
      "A          det        case       NOUN  []\n",
      "similar    amod       case       NOUN  []\n",
      "case       nsubj      found      VERB  [A, similar, in]\n",
      "in         prep       case       NOUN  [UK]\n",
      "the        det        UK         PROPN []\n",
      "UK         pobj       in         ADP   [the]\n",
      "found      ROOT       found      VERB  [case, in, and, ordered, .]\n",
      "in         prep       found      VERB  [favour]\n",
      "Samsung    poss       favour     NOUN  ['s]\n",
      "'s         case       Samsung    PROPN []\n",
      "favour     pobj       in         ADP   [Samsung]\n",
      "and        cc         found      VERB  []\n",
      "ordered    conj       found      VERB  [Apple, publish]\n",
      "Apple      dobj       ordered    VERB  []\n",
      "to         aux        publish    VERB  []\n",
      "publish    xcomp      ordered    VERB  [to, apology]\n",
      "an         det        apology    NOUN  []\n",
      "apology    dobj       publish    VERB  [an, making]\n",
      "making     acl        apology    NOUN  [clear, copied]\n",
      "clear      acomp      making     VERB  []\n",
      "that       mark       copied     VERB  []\n",
      "the        det        firm       NOUN  []\n",
      "South      amod       Korean     ADJ   []\n",
      "Korean     amod       firm       NOUN  [South]\n",
      "firm       nsubj      copied     VERB  [the, Korean]\n",
      "had        aux        copied     VERB  []\n",
      "not        neg        copied     VERB  []\n",
      "copied     ccomp      making     VERB  [that, firm, had, not, iPad, designing]\n",
      "its        poss       iPad       PROPN []\n",
      "iPad       dobj       copied     VERB  [its]\n",
      "when       advmod     designing  VERB  []\n",
      "designing  advcl      copied     VERB  [when, devices]\n",
      "its        poss       devices    NOUN  []\n",
      "own        amod       devices    NOUN  []\n",
      "devices    dobj       designing  VERB  [its, own]\n",
      ".          punct      found      VERB  []\n"
     ]
    }
   ],
   "source": [
    "#part-of-speech tagging \n",
    "doc = nlp(text) \n",
    "for token in doc:\n",
    "    print(f'{token.text:15} {token.lemma_:15} {token.pos_:5} {token.tag_:5} {token.dep_:7}')\n",
    "#name entity recognition \n",
    "for ent in doc.ents:\n",
    "    print(f'{ent.text:15} {ent.start_char:5} {ent.end_char:5} {ent.label_:5}')\n",
    "#dependency parsing \n",
    "for token in doc:\n",
    "    print(f\"{token.text:10} {token.dep_:10} {token.head.text:10} {token.head.pos_:5} {list(token.children)}\")\n",
    "#visualisation of dependency parse\n",
    "#displacy.render(doc, style=\"dep\", jupyter=True, options={'distance': 90})"
   ]
  },
  {
   "cell_type": "markdown",
   "metadata": {},
   "source": [
    "small tip: You can use **sents = list(doc.sents)** to be able to use the index to access a sentence like **sents[2]** for the third sentence.\n"
   ]
  },
  {
   "cell_type": "code",
   "execution_count": 24,
   "metadata": {},
   "outputs": [
    {
     "data": {
      "text/plain": [
       "'\\nsents = list(doc.sents)\\n# Access a sentence\\nspecific_sentence = sents[2] #in this case the third one \\nprint(specific_sentence.text)\\n\\n# Part-of-Speech tagging for specific sentence\\nfor token in specific_sentence:\\n    print(f\\'{token.text:15} {token.pos_:5}\\')\\n\\n# Named Entity Recognition for specific sentence\\nfor ent in specific_sentence.ents:\\n    print(f\\'{ent.text:15} {ent.label_:5}\\')\\n    \\n#dependency parse for specific sentence\\ndisplacy.render(specific_sentence, style=\"dep\", jupyter=True, options={\\'distance\\': 90})\\n'"
      ]
     },
     "execution_count": 24,
     "metadata": {},
     "output_type": "execute_result"
    }
   ],
   "source": [
    "'''\n",
    "sents = list(doc.sents)\n",
    "# Access a sentence\n",
    "specific_sentence = sents[2] #in this case the third one \n",
    "print(specific_sentence.text)\n",
    "\n",
    "# Part-of-Speech tagging for specific sentence\n",
    "for token in specific_sentence:\n",
    "    print(f'{token.text:15} {token.pos_:5}')\n",
    "\n",
    "# Named Entity Recognition for specific sentence\n",
    "for ent in specific_sentence.ents:\n",
    "    print(f'{ent.text:15} {ent.label_:5}')\n",
    "    \n",
    "#dependency parse for specific sentence\n",
    "displacy.render(specific_sentence, style=\"dep\", jupyter=True, options={'distance': 90})\n",
    "'''"
   ]
  },
  {
   "cell_type": "markdown",
   "metadata": {},
   "source": [
    "## [total points: 7] Exercise 3: Comparison NLTK and spaCy\n",
    "We will now compare the output of NLTK and spaCy, i.e., in what do they differ?"
   ]
  },
  {
   "cell_type": "markdown",
   "metadata": {},
   "source": [
    "### [points: 3] Exercise 3a: Part of speech tagging\n",
    "Compare the output from NLTK and spaCy regarding part of speech tagging.\n",
    "\n",
    "* To compare, you probably would like to compare sentence per sentence. Describe if the sentence splitting is different for NLTK than for spaCy. If not, where do they differ?\n",
    "* After checking the sentence splitting, select a sentence for which you expect interesting results and perhaps differences. Motivate your choice.\n",
    "* Compare the output in `token.tag` from spaCy to the part of speech tagging from NLTK for each token in your selected sentence. Are there any differences? This is not a trick question; it is possible that there are no differences."
   ]
  },
  {
   "cell_type": "markdown",
   "metadata": {},
   "source": [
    "\n",
    "When we look at how sentences are divided, both NLTK and spaCy aim to break down text into individual sentences. However, they rely on distinct algorithms and models for this task, leading to some differences in their sentence-splitting behavior. Interestingly, the primary difference noted in the provided example doesn't lie in how sentences are split but in the way specific tokens, especially those involving currency symbols and amounts, are identified within a sentence.\n",
    "\n",
    "\n",
    "\"In August, Samsung lost a US patent case to Apple and was ordered to pay its rival $1.05bn (£0.66bn) in damages for copying features of the iPad and iPhone in its Galaxy range of devices.\"\n",
    "\n",
    "We chose this sentence because it consists of difficult parts and overall has a difficult structure.\n",
    "The only difference in splitting that we could notice is '£0.66bn'.NLTK treats this as a single token, which makes sense since it represents a unified monetary amount. Conversely, spaCy breaks it down into two separate tokens: '£' and '0.66bn'. This action divides the currency symbol from its associated value. This distinction showcases the different approaches and tokenization rules that each library applies, with spaCy taking a more detailed route in breaking down tokens in this scenario.\n",
    "\n",
    "When comparing spacy's token.tag_ output with NLTK's part-of-speech tagging for each word in our chosen sentence, we should keep in mind that the differences we notice stem from the unique tagging conventions and models each library uses. We noticed that the way \"was\" gets tagged could be a good exaple of how differently these tools can see language. SpaCy might label it as VBD (verb, past tense) or AUX (auxiliary verb), based on the context and spaCy model version. NLTK could also tag it as a past tense verb, but it might not always make a clear distinction for auxiliary verbs without specific settings. "
   ]
  },
  {
   "cell_type": "markdown",
   "metadata": {},
   "source": [
    "### [points: 2] Exercise 3b: Named Entity Recognition (NER)\n",
    "* Describe differences between the output from NLTK and spaCy for Named Entity Recognition. Which one do you think performs better?"
   ]
  },
  {
   "cell_type": "code",
   "execution_count": 25,
   "metadata": {},
   "outputs": [
    {
     "data": {
      "text/html": [
       "<span class=\"tex2jax_ignore\"><div class=\"entities\" style=\"line-height: 2.5; direction: ltr\">In \n",
       "<mark class=\"entity\" style=\"background: #bfe1d9; padding: 0.45em 0.6em; margin: 0 0.25em; line-height: 1; border-radius: 0.35em;\">\n",
       "    August\n",
       "    <span style=\"font-size: 0.8em; font-weight: bold; line-height: 1; border-radius: 0.35em; vertical-align: middle; margin-left: 0.5rem\">DATE</span>\n",
       "</mark>\n",
       ", \n",
       "<mark class=\"entity\" style=\"background: #7aecec; padding: 0.45em 0.6em; margin: 0 0.25em; line-height: 1; border-radius: 0.35em;\">\n",
       "    Samsung\n",
       "    <span style=\"font-size: 0.8em; font-weight: bold; line-height: 1; border-radius: 0.35em; vertical-align: middle; margin-left: 0.5rem\">ORG</span>\n",
       "</mark>\n",
       " lost a \n",
       "<mark class=\"entity\" style=\"background: #feca74; padding: 0.45em 0.6em; margin: 0 0.25em; line-height: 1; border-radius: 0.35em;\">\n",
       "    US\n",
       "    <span style=\"font-size: 0.8em; font-weight: bold; line-height: 1; border-radius: 0.35em; vertical-align: middle; margin-left: 0.5rem\">GPE</span>\n",
       "</mark>\n",
       " patent case to \n",
       "<mark class=\"entity\" style=\"background: #7aecec; padding: 0.45em 0.6em; margin: 0 0.25em; line-height: 1; border-radius: 0.35em;\">\n",
       "    Apple\n",
       "    <span style=\"font-size: 0.8em; font-weight: bold; line-height: 1; border-radius: 0.35em; vertical-align: middle; margin-left: 0.5rem\">ORG</span>\n",
       "</mark>\n",
       " and was ordered to pay its rival $\n",
       "<mark class=\"entity\" style=\"background: #e4e7d2; padding: 0.45em 0.6em; margin: 0 0.25em; line-height: 1; border-radius: 0.35em;\">\n",
       "    1.05bn\n",
       "    <span style=\"font-size: 0.8em; font-weight: bold; line-height: 1; border-radius: 0.35em; vertical-align: middle; margin-left: 0.5rem\">MONEY</span>\n",
       "</mark>\n",
       " (£\n",
       "<mark class=\"entity\" style=\"background: #e4e7d2; padding: 0.45em 0.6em; margin: 0 0.25em; line-height: 1; border-radius: 0.35em;\">\n",
       "    0.66bn\n",
       "    <span style=\"font-size: 0.8em; font-weight: bold; line-height: 1; border-radius: 0.35em; vertical-align: middle; margin-left: 0.5rem\">MONEY</span>\n",
       "</mark>\n",
       ") in damages for copying features of the \n",
       "<mark class=\"entity\" style=\"background: #7aecec; padding: 0.45em 0.6em; margin: 0 0.25em; line-height: 1; border-radius: 0.35em;\">\n",
       "    iPad\n",
       "    <span style=\"font-size: 0.8em; font-weight: bold; line-height: 1; border-radius: 0.35em; vertical-align: middle; margin-left: 0.5rem\">ORG</span>\n",
       "</mark>\n",
       " and iPhone in its \n",
       "<mark class=\"entity\" style=\"background: #9cc9cc; padding: 0.45em 0.6em; margin: 0 0.25em; line-height: 1; border-radius: 0.35em;\">\n",
       "    Galaxy\n",
       "    <span style=\"font-size: 0.8em; font-weight: bold; line-height: 1; border-radius: 0.35em; vertical-align: middle; margin-left: 0.5rem\">FAC</span>\n",
       "</mark>\n",
       " range of devices.</div></span>"
      ],
      "text/plain": [
       "<IPython.core.display.HTML object>"
      ]
     },
     "metadata": {},
     "output_type": "display_data"
    },
    {
     "name": "stdout",
     "output_type": "stream",
     "text": [
      "\n",
      "ORIGINAL SENTENCE In August, Samsung lost a US patent case to Apple and was ordered to pay its rival $1.05bn (£0.66bn) in damages for copying features of the iPad and iPhone in its Galaxy range of devices.\n",
      "NAMED ENTITY RECOGNITION OUTPUT (S\n",
      "  In/IN\n",
      "  (GPE August/NNP)\n",
      "  ,/,\n",
      "  (PERSON Samsung/NNP)\n",
      "  lost/VBD\n",
      "  a/DT\n",
      "  (GSP US/NNP)\n",
      "  patent/NN\n",
      "  case/NN\n",
      "  to/TO\n",
      "  (GPE Apple/NNP)\n",
      "  and/CC\n",
      "  was/VBD\n",
      "  ordered/VBN\n",
      "  to/TO\n",
      "  pay/VB\n",
      "  its/PRP$\n",
      "  rival/JJ\n",
      "  $/$\n",
      "  1.05bn/CD\n",
      "  (/(\n",
      "  £0.66bn/NN\n",
      "  )/)\n",
      "  in/IN\n",
      "  damages/NNS\n",
      "  for/IN\n",
      "  copying/VBG\n",
      "  features/NNS\n",
      "  of/IN\n",
      "  the/DT\n",
      "  (ORGANIZATION iPad/NN)\n",
      "  and/CC\n",
      "  (ORGANIZATION iPhone/NN)\n",
      "  in/IN\n",
      "  its/PRP$\n",
      "  (GPE Galaxy/NNP)\n",
      "  range/NN\n",
      "  of/IN\n",
      "  devices/NNS\n",
      "  ./.)\n"
     ]
    }
   ],
   "source": [
    "text = \"\"\"In August, Samsung lost a US patent case to Apple and was ordered to pay its rival $1.05bn (£0.66bn) in damages for copying features of the iPad and iPhone in its Galaxy range of devices.\"\"\"\n",
    "doc = nlp(text)\n",
    "from spacy import displacy\n",
    "displacy.render(doc, jupyter=True, style='ent')\n",
    "\n",
    "\n",
    "sentences = nltk.sent_tokenize(text)\n",
    "for sentence in sentences:\n",
    "    \n",
    "    tokens = nltk.word_tokenize(sentence)\n",
    "    tokens_pos_tagged = nltk.pos_tag(tokens)\n",
    "    tokens_pos_tagged_and_named_entities = ne_chunk(tokens_pos_tagged)\n",
    "    print()\n",
    "    print('ORIGINAL SENTENCE', sentence)\n",
    "    print('NAMED ENTITY RECOGNITION OUTPUT', tokens_pos_tagged_and_named_entities)\n",
    "    \n",
    "\n",
    "pos_tags_per_sentence = [] #stores POS tags for each sentence List[Tuple]\n",
    "for tokens in tokens_per_sentence:\n",
    "    pos_tags = nltk.pos_tag(tokens) #each tuple consists of a token and its corresponding POS tag\n",
    "    pos_tags_per_sentence.append(pos_tags)\n",
    "    #print(pos_tags) #prints POS-tagged tokens for one sentence at a time"
   ]
  },
  {
   "cell_type": "markdown",
   "metadata": {},
   "source": [
    "The differences between the output in the given sentence are:\n",
    "\n",
    "**Entities Identified**:\n",
    "SpaCy correctly identifies more specific types of named entities, organizations (\"Apple\"), and monetary values (\"$1.05bn\", \"£0.66bn\").\n",
    "NLTK, on the other hand, identifies fewer specific entity types. \n",
    "\n",
    "**Accuracy of Labels**:\n",
    "SpaCy provides more accurate entity labels by assigning specific types such as DATE, ORG, GPE, and MONEY. Although it makes a mistake with labeling Galaxy device type and detects iPad as an organiztion.\n",
    "NLTK labels entities like \"Samsung\" as an Person, and \"Apple\" and \"Galaxy\" as an GPE(geo-political entities), which is less accurate and informative.\n",
    "\n",
    "Overall, we wuld say that SpaCy performs better in Named Entity Recognition for the given sentence due to its ability to recognize a wider range of entity types and provide more accurate and informative labels. "
   ]
  },
  {
   "cell_type": "markdown",
   "metadata": {
    "tags": []
   },
   "source": [
    "### [points: 2] Exercise 3c: Constituency/dependency parsing\n",
    "Choose one sentence from the text and run constituency parsing using NLTK and dependency parsing using spaCy.\n",
    "* describe briefly the difference between constituency parsing and dependency parsing\n",
    "* describe differences between the output from NLTK and spaCy."
   ]
  },
  {
   "cell_type": "markdown",
   "metadata": {},
   "source": [
    "Dependency parsing and constituency parsing are two methods used to represent the structure of sentences in natural language processing.\n",
    "\n",
    "- Using a hierarchical structure that is usually represented by a parse tree, **constituency parsing** attempts to dissect a sentence into its grammatical components or phrases.When using constituency parsing, the sentence's layered structure of phrases is reflected in the parse tree's structure, where each node denotes a component, and each edge denotes a grammatical link.Constituency parsing finds the noun, verb, prepositional, and other phrase constituents in a sentence (more language independent as it focuses on universal syntactic relationships) , as well as their hierarchical relationships.When comparing it to dependency parsing in terms of handling ambiguity, the former may resolve certain syntactic ambiguiguities, while the latter might face more challenges with structurals ambiguities (a sentence could be represented by multiple valid parse trees making it harder to discern the intended stucture).\n",
    "- In **dependency parsing**, each word is viewed as a node, and the connections between them are shown as directed edges.Unlike constituency parsing, dependency parsing does not rely on phrasal constituents or sub-phrases. Rather, it represents the syntax of a sentence through relationships between words, specifically directed and typed edges within a graph. The goal of dependency parsing is to determine the links between words in a phrase.\n",
    "\n",
    "In summary constituency parsing is a layered architecture of phrase-based constituents, while dependency parsing is a network of word-to-word interactions."
   ]
  },
  {
   "cell_type": "markdown",
   "metadata": {},
   "source": [
    "**Difference in output between the two :**\n",
    "\n",
    "**NLTK**\n",
    "The NLTK output is demonstrated through tree structures and focuses on the categorization of syntax in the different parts of the sentences, such as the noun phrases and verb phrases, without emphesazing the named entities within the text. This structure is more aligned with showing sentence grammar and structure rather than identifying and categorizing named entites explicitly.\n",
    "\n",
    "**spaCy**\n",
    "This output appears to be more straight forward when it comes to identifying named entities. SpaCy pairs words or phraases with their corresponding entity types such as 'organizations(ORG), geopolitical entities(GPE), DATE, MONEY etc'. It also provides a more detailed analysis on each words role in a sentnece, including the words relationship to other words in the sentence. In addition, it identifies named entities with specific labeles, which makes it easier to extract information about the people, organizations, locations and more.\n",
    "\n",
    "**Conclusion**\n",
    "Overall, spaCy is generally perceived to perform better for Named Entity Recognition tasks, as opposed to NLTK. It identifies the entities more explicitly and categorizes them into predefined classes, which can be more useful when the user is trying to extract information, analyze data or enhance search algorithms. Thus, SpaCy's efficiency in processing and its ability to handle complex NER tasks with a higher degree of accuracy, makes it a preferred choice for NLP applications focused on named entity identification and categorization."
   ]
  },
  {
   "cell_type": "markdown",
   "metadata": {},
   "source": [
    "# End of this notebook"
   ]
  },
  {
   "cell_type": "code",
   "execution_count": null,
   "metadata": {},
   "outputs": [],
   "source": []
  }
 ],
 "metadata": {
  "kernelspec": {
   "display_name": "Python (newenv)",
   "language": "python",
   "name": "newenv"
  },
  "language_info": {
   "codemirror_mode": {
    "name": "ipython",
    "version": 3
   },
   "file_extension": ".py",
   "mimetype": "text/x-python",
   "name": "python",
   "nbconvert_exporter": "python",
   "pygments_lexer": "ipython3",
   "version": "3.9.13"
  }
 },
 "nbformat": 4,
 "nbformat_minor": 4
}
